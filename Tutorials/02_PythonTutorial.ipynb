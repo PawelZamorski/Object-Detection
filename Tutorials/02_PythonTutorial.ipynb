{
 "cells": [
  {
   "cell_type": "markdown",
   "metadata": {},
   "source": [
    "# Python\n",
    "\n",
    "Python is an interpreted language. You can run a single line of code straight away without compiling.\n",
    "\n",
    "Python can be treated in a procedural way or an object-oriented way. You can write simple, but useful script in a procedural way, especially when using third-party libraries/modules/packages. You can write more complex app in an object-oriented way, write classes or functions, pack your code into module/package and export it, import build-in/third-party module/package into your app.\n",
    "\n",
    "Python community developed many well-documented packages. Most popular for data science and AI:\n",
    "- NumPy (data science. It uses its own data structure: arrays. It has support for large, multi-dimensional arrays and matrices, along with a large collection of high-level mathematical functions to operate on these arrays)\n",
    "- Pandas (data analysis, data manipulation and data visualization. It uses its own data structures: Series and DataFrame)\n",
    "- Matplotlib (more complex, but also more customizable data visualization than Pandas)\n",
    "- SciPy (data science. It contains modules for optimization, linear algebra, integration, interpolation, signal and image processing)\n",
    "\n",
    "You can find more about those packages in next tutorial.\n",
    "\n",
    "\n",
    "Versions: There is huge difference between Python version 2 and 3. Be careful when reading advices on Stack Overflow, which Python version are they referring to.\n",
    "\n",
    "Tutorials:\n",
    "- Python version 3.8 full tutorial: https://docs.python.org/3.8/tutorial/index.html\n",
    "We use version 3.8 as it is the current one at Anaconda. There are small changes between subversions, especially in advanced stuff. Just make sure that you execute you code using the same Python version that the code was written in.\n",
    "- Good tutorial for quick reference: https://www.w3schools.com/python/default.asp\n",
    "\n",
    "Popular IDE: Pycharm, Netbeans or Eclipse\n",
    "\n",
    "Some extra info:\n",
    "- When we speak of Python we often mean not just the language but also the implementation. Python is actually a specification for a language that can be implemented in many different ways.\n",
    "- Cpython - The default implementation of the Python programming language is Cpython. As the name suggests Cpython is written in C language. Cpython compiles the python source code into intermediate bytecode, which is executed by the Cpython virtual machine. \n",
    "- you can add new built-in modules to Python, if you know how to program in C. Such extension modules can do two things that can’t be done directly in Python: they can implement new built-in object types, and they can call C library functions and system calls.\n",
    "- other less popular Python implementations: Jython, IronPython, PyPy\n",
    "\n",
    "\n"
   ]
  },
  {
   "cell_type": "markdown",
   "metadata": {},
   "source": [
    "## End of statement\n",
    "In Python, the end of a statement is marked by a newline character. There is no need to put semi-colon at the end."
   ]
  },
  {
   "cell_type": "code",
   "execution_count": 1,
   "metadata": {},
   "outputs": [
    {
     "name": "stdout",
     "output_type": "stream",
     "text": [
      "10\n"
     ]
    }
   ],
   "source": [
    "# two statements\n",
    "x = 10\n",
    "print(x)"
   ]
  },
  {
   "cell_type": "code",
   "execution_count": 2,
   "metadata": {},
   "outputs": [
    {
     "name": "stdout",
     "output_type": "stream",
     "text": [
      "1 2 3\n"
     ]
    }
   ],
   "source": [
    "# but you can put multiple statements in the same line using semi-colon.\n",
    "# A semi-colon in Python denotes separation, rather than termination\n",
    "\n",
    "a = 1; b = 2; c = 3\n",
    "print(a, b, c)"
   ]
  },
  {
   "cell_type": "code",
   "execution_count": 3,
   "metadata": {},
   "outputs": [
    {
     "name": "stdout",
     "output_type": "stream",
     "text": [
      "45\n"
     ]
    }
   ],
   "source": [
    "# statement can be extended over multiple lines with the line continuation character (\\)\n",
    "\n",
    "a = 1 + 2 + 3 + \\\n",
    "    4 + 5 + 6 + \\\n",
    "    7 + 8 + 9\n",
    "\n",
    "print(a)"
   ]
  },
  {
   "cell_type": "code",
   "execution_count": 4,
   "metadata": {},
   "outputs": [
    {
     "name": "stdout",
     "output_type": "stream",
     "text": [
      "45\n",
      "['red', 'blue', 'green']\n"
     ]
    }
   ],
   "source": [
    "# the surrounding parentheses ( ) do the line continuation implicitly. Same case is with [ ] and { }. \n",
    "a = (1 + 2 + 3 + \n",
    "    4 + 5 + 6 + \n",
    "    7 + 8 + 9)\n",
    "\n",
    "print(a)\n",
    "\n",
    "b = ['red', \n",
    "    'blue',\n",
    "    'green']\n",
    "\n",
    "print(b)"
   ]
  },
  {
   "cell_type": "markdown",
   "metadata": {},
   "source": [
    "## Indentations\n",
    "Indentations are very important in Python. Indentation are used to indicate the same block of code. There should be an empty line of code after indented block of code.\n",
    "\n",
    "It is different than Java where the same block of code is contained in curly brackets {... block of code ....}.\n",
    "\n",
    "You can use spaces or tabs, but must be the same amount of them. Generally, four whitespaces are used for indentation and are preferred over tabs."
   ]
  },
  {
   "cell_type": "code",
   "execution_count": 5,
   "metadata": {},
   "outputs": [
    {
     "name": "stdout",
     "output_type": "stream",
     "text": [
      "True\n",
      "5\n",
      "outside the block of code\n"
     ]
    }
   ],
   "source": [
    "if True:\n",
    "    # block of code\n",
    "    print('True')\n",
    "    print(5)\n",
    "    # they advice to leave an empty line after block of code\n",
    "\n",
    "if False:\n",
    "    print('False')\n",
    "    print(0)\n",
    "\n",
    "print('outside the block of code')"
   ]
  },
  {
   "cell_type": "markdown",
   "metadata": {},
   "source": [
    "## Comments\n",
    "\n",
    "Python uses # to comment a line."
   ]
  },
  {
   "cell_type": "code",
   "execution_count": 6,
   "metadata": {},
   "outputs": [],
   "source": [
    "# this is the first comment\n",
    "spam = 1 + 2 # and this is the second comment\n",
    "          # ... and now a third!\n",
    "text = \"# This is not a comment because it's inside quotes.\""
   ]
  },
  {
   "cell_type": "markdown",
   "metadata": {},
   "source": [
    "# Build-in functions\n",
    "\n",
    "Python has a set of build-in functions that are always available. One of them is print()\n"
   ]
  },
  {
   "cell_type": "code",
   "execution_count": 7,
   "metadata": {},
   "outputs": [
    {
     "name": "stdout",
     "output_type": "stream",
     "text": [
      "5\n",
      "hello\n",
      "0 1 string in single quote string in double quote \n",
      " new line\n"
     ]
    }
   ],
   "source": [
    "print(5)\n",
    "print('hello')\n",
    "\n",
    "x = 0\n",
    "print(x, 1, 'string in single quote', \"string in double quote\", '\\n new line')\n",
    "# \\n indicates new line\n",
    "# To print many values using print() function, seperate them by comma\n",
    "\n",
    "# Note: comma doesn't concatenates values. Actually all those values in print() function are objects to be printed.\n",
    "# Note: a space is automatically inserted to separate values\n",
    "# More about it later."
   ]
  },
  {
   "cell_type": "markdown",
   "metadata": {},
   "source": [
    "# Variables\n",
    "\n",
    "Variables do not have a default values, so the value must be assign before running a code."
   ]
  },
  {
   "cell_type": "code",
   "execution_count": 8,
   "metadata": {},
   "outputs": [
    {
     "name": "stdout",
     "output_type": "stream",
     "text": [
      "3\n"
     ]
    }
   ],
   "source": [
    "# assignment statement\n",
    "x = 3\n",
    "print(x)"
   ]
  },
  {
   "cell_type": "markdown",
   "metadata": {},
   "source": [
    "# Boolean\n",
    "\n",
    "True\n",
    "\n",
    "False"
   ]
  },
  {
   "cell_type": "code",
   "execution_count": 9,
   "metadata": {},
   "outputs": [
    {
     "name": "stdout",
     "output_type": "stream",
     "text": [
      "True\n",
      "False\n",
      "False\n",
      "True False\n"
     ]
    }
   ],
   "source": [
    "print(10 > 9)\n",
    "print(10 == 9)\n",
    "\n",
    "a = 9 > 10\n",
    "print(a)\n",
    "\n",
    "print(True, False)"
   ]
  },
  {
   "cell_type": "markdown",
   "metadata": {},
   "source": [
    "# Strings\n",
    "\n",
    "You can use single or double quote to declare string type. \n",
    "\n",
    "There are many methods you can use with string, but we don't need to use them for our Team Project."
   ]
  },
  {
   "cell_type": "code",
   "execution_count": 10,
   "metadata": {},
   "outputs": [
    {
     "name": "stdout",
     "output_type": "stream",
     "text": [
      "single quoted string\n",
      "double quoted string\n"
     ]
    }
   ],
   "source": [
    "print('single quoted string')\n",
    "print(\"double quoted string\")"
   ]
  },
  {
   "cell_type": "markdown",
   "metadata": {},
   "source": [
    "# Numbers\n",
    "Python uses int and float.\n",
    "\n",
    "All integers are implemented as “long” integer objects.\n",
    "\n",
    "Basicly, no need to bother about the size of number or type"
   ]
  },
  {
   "cell_type": "code",
   "execution_count": 11,
   "metadata": {},
   "outputs": [
    {
     "name": "stdout",
     "output_type": "stream",
     "text": [
      "10\n",
      "9223372036854775807\n",
      "10000000000000000000000000000000000000000000000000000000000000000000000\n",
      "1.1\n",
      "11.1\n",
      "5.0\n"
     ]
    }
   ],
   "source": [
    "x = 10\n",
    "print(x)\n",
    "\n",
    "l = 9_223_372_036_854_775_807\n",
    "print(l)\n",
    "l = 9999999999999999999999999999999999999999999999999999999999999999999999 + 1\n",
    "print(l)\n",
    "\n",
    "y = 1.1\n",
    "print(y)\n",
    "\n",
    "z = x + y # returns floating point number\n",
    "print(z)\n",
    "\n",
    "k = 10/2 # division always returns a floating point number\n",
    "print(k) "
   ]
  },
  {
   "cell_type": "markdown",
   "metadata": {},
   "source": [
    "# Strongly and dynamically typed language\n",
    "\n",
    "Python is both a strongly typed and a dynamically typed language.\n",
    "\n",
    "Strong typing means that variables do have a type and that the type matters when performing operations on a variable. Dynamic typing means that the type of the variable is determined only during runtime.\n",
    "\n",
    "Due to strong typing, types need to be compatible with respect to the operand when performing operations. For example Python allows one to add an integer and a floating point number, but adding an integer to a string produces error.\n",
    "\n",
    "Due to dynamic typing, in Python the same variable can have a different type at different times during the execution."
   ]
  },
  {
   "cell_type": "code",
   "execution_count": 12,
   "metadata": {},
   "outputs": [],
   "source": [
    "# the commented code below will produce TypeError: unsupported operand type(s) for +: 'int' and 'str'\n",
    "\n",
    "# y = 1 + 'string'"
   ]
  },
  {
   "cell_type": "code",
   "execution_count": 13,
   "metadata": {},
   "outputs": [
    {
     "name": "stdout",
     "output_type": "stream",
     "text": [
      "1\n",
      "String\n",
      "1.1\n",
      "True\n"
     ]
    }
   ],
   "source": [
    "# assinging different types to the same variable\n",
    "\n",
    "x = 1\n",
    "print(x)\n",
    "x = 'String'\n",
    "print(x)\n",
    "x = 1.1\n",
    "print(x)\n",
    "x = True\n",
    "print(x)"
   ]
  },
  {
   "cell_type": "markdown",
   "metadata": {},
   "source": [
    "# Everything in Python is object\n",
    "\n",
    "One of the key features of Python is that everything is an object, and the type is just one attribute of an object.\n",
    "\n",
    "Objects have attributes. A method is an attribute, but not all attributes are methods. Methods are functions that belong to object. Function is a reusable block of code. \n",
    "\n",
    "Function is called function if it is defined as a stand-alone block of code (outside a class). Function is also an object.\n",
    "\n",
    "No need to study this in-depth. Just be aware of it. Some simple examples."
   ]
  },
  {
   "cell_type": "code",
   "execution_count": 14,
   "metadata": {},
   "outputs": [
    {
     "name": "stdout",
     "output_type": "stream",
     "text": [
      "<class 'int'>\n",
      "<class 'int'>\n",
      "<class 'float'>\n",
      "<class 'str'>\n",
      "<class 'bool'>\n"
     ]
    }
   ],
   "source": [
    "# display a type using build-in type() function\n",
    "x = 1\n",
    "print(type(x))\n",
    "\n",
    "x = 9_223_372_036_854_775_807 + 1\n",
    "print(type(x))\n",
    "\n",
    "x = 1.1\n",
    "print(type(x))\n",
    "\n",
    "x = 'some string'\n",
    "print(type(x))\n",
    "\n",
    "x = True\n",
    "print(type(x))"
   ]
  },
  {
   "cell_type": "code",
   "execution_count": 15,
   "metadata": {},
   "outputs": [
    {
     "name": "stdout",
     "output_type": "stream",
     "text": [
      "<class 'str'>\n",
      "--------------------\n",
      "['__add__', '__class__', '__contains__', '__delattr__', '__dir__', '__doc__', '__eq__', '__format__', '__ge__', '__getattribute__', '__getitem__', '__getnewargs__', '__gt__', '__hash__', '__init__', '__init_subclass__', '__iter__', '__le__', '__len__', '__lt__', '__mod__', '__mul__', '__ne__', '__new__', '__reduce__', '__reduce_ex__', '__repr__', '__rmod__', '__rmul__', '__setattr__', '__sizeof__', '__str__', '__subclasshook__', 'capitalize', 'casefold', 'center', 'count', 'encode', 'endswith', 'expandtabs', 'find', 'format', 'format_map', 'index', 'isalnum', 'isalpha', 'isascii', 'isdecimal', 'isdigit', 'isidentifier', 'islower', 'isnumeric', 'isprintable', 'isspace', 'istitle', 'isupper', 'join', 'ljust', 'lower', 'lstrip', 'maketrans', 'partition', 'replace', 'rfind', 'rindex', 'rjust', 'rpartition', 'rsplit', 'rstrip', 'split', 'splitlines', 'startswith', 'strip', 'swapcase', 'title', 'translate', 'upper', 'zfill']\n"
     ]
    }
   ],
   "source": [
    "# you can see all the object attributes by calling build-in dir() function that returns an array of object attributes\n",
    "\n",
    "# Python does not have access modifiers.\n",
    "# Double underscore means that attribute should be treated as private. But you can still access it.\n",
    "\n",
    " # From Python tutorial: \n",
    " # “Private” instance variables that cannot be accessed except from inside an object don’t exist in Python.\n",
    " # However, there is a convention that is followed by most Python code: a name prefixed with an underscore\n",
    " # should be treated as a non-public part of the API (whether it is a function, a method or a data member).\n",
    " # It should be considered an implementation detail and subject to change without notice.\n",
    "\n",
    "x = 'some string'\n",
    "    \n",
    "print(type(x))\n",
    "print('--------------------')\n",
    "\n",
    "print(dir(x))"
   ]
  },
  {
   "cell_type": "code",
   "execution_count": 16,
   "metadata": {},
   "outputs": [
    {
     "name": "stdout",
     "output_type": "stream",
     "text": [
      "<built-in method startswith of str object at 0x000001ED847E85F0>\n",
      "True\n",
      "<built-in method upper of str object at 0x000001ED847E85F0>\n",
      "STRING\n"
     ]
    }
   ],
   "source": [
    "# use dot notation to access attribute\n",
    "x = 'string'\n",
    "\n",
    "print(x.startswith) # displays that 'startswith' is built-in method\n",
    "print(x.startswith('s')) # it is method, so call as a method with ()\n",
    "print(x.upper) \n",
    "print(x.upper())"
   ]
  },
  {
   "cell_type": "code",
   "execution_count": 17,
   "metadata": {},
   "outputs": [
    {
     "name": "stdout",
     "output_type": "stream",
     "text": [
      "<method-wrapper '__str__' of str object at 0x000001ED847E85F0>\n",
      "--------------------\n",
      "['__call__', '__class__', '__delattr__', '__dir__', '__doc__', '__eq__', '__format__', '__ge__', '__getattribute__', '__gt__', '__hash__', '__init__', '__init_subclass__', '__le__', '__lt__', '__name__', '__ne__', '__new__', '__objclass__', '__qualname__', '__reduce__', '__reduce_ex__', '__repr__', '__self__', '__setattr__', '__sizeof__', '__str__', '__subclasshook__', '__text_signature__']\n"
     ]
    }
   ],
   "source": [
    "# this is just to show that you can access double underscorred attributes\n",
    "x = 'string'\n",
    "\n",
    "print(x.__str__)\n",
    "print('--------------------')\n",
    "print(dir(x.__str__))"
   ]
  },
  {
   "cell_type": "markdown",
   "metadata": {},
   "source": [
    "# Loops\n",
    "\n",
    "- while statement\n",
    "- for statement"
   ]
  },
  {
   "cell_type": "code",
   "execution_count": 18,
   "metadata": {},
   "outputs": [
    {
     "name": "stdout",
     "output_type": "stream",
     "text": [
      "0\n",
      "1\n",
      "2\n",
      "3\n",
      "4\n"
     ]
    }
   ],
   "source": [
    "# with while loop you can use variable to control the loop\n",
    "\n",
    "i = 0\n",
    "while i < 5:\n",
    "    print(i)\n",
    "    i += 1 # incrementation. i++ doesn't work. Use i += 1 or i = i + 1"
   ]
  },
  {
   "cell_type": "code",
   "execution_count": 19,
   "metadata": {},
   "outputs": [
    {
     "name": "stdout",
     "output_type": "stream",
     "text": [
      "cat\n",
      "window\n",
      "defenestrate\n"
     ]
    }
   ],
   "source": [
    "# for statement loops through all values\n",
    "# for statement works only if object has iterator\n",
    "\n",
    "words = ['cat', 'window', 'defenestrate']\n",
    "\n",
    "for word in words:\n",
    "    print(word)\n"
   ]
  },
  {
   "cell_type": "code",
   "execution_count": 20,
   "metadata": {},
   "outputs": [
    {
     "name": "stdout",
     "output_type": "stream",
     "text": [
      "['__add__', '__class__', '__contains__', '__delattr__', '__dir__', '__doc__', '__eq__', '__format__', '__ge__', '__getattribute__', '__getitem__', '__getnewargs__', '__gt__', '__hash__', '__init__', '__init_subclass__', '__iter__', '__le__', '__len__', '__lt__', '__mod__', '__mul__', '__ne__', '__new__', '__reduce__', '__reduce_ex__', '__repr__', '__rmod__', '__rmul__', '__setattr__', '__sizeof__', '__str__', '__subclasshook__', 'capitalize', 'casefold', 'center', 'count', 'encode', 'endswith', 'expandtabs', 'find', 'format', 'format_map', 'index', 'isalnum', 'isalpha', 'isascii', 'isdecimal', 'isdigit', 'isidentifier', 'islower', 'isnumeric', 'isprintable', 'isspace', 'istitle', 'isupper', 'join', 'ljust', 'lower', 'lstrip', 'maketrans', 'partition', 'replace', 'rfind', 'rindex', 'rjust', 'rpartition', 'rsplit', 'rstrip', 'split', 'splitlines', 'startswith', 'strip', 'swapcase', 'title', 'translate', 'upper', 'zfill']\n",
      "True\n",
      "-----------------------\n",
      "a\n",
      "b\n",
      "c\n"
     ]
    }
   ],
   "source": [
    "# string has iterator\n",
    "s = \"abc\"\n",
    "print(dir(s))\n",
    "print(hasattr(s, '__iter__')) # build-in function hasattr(); Checks if object has attribute '__iter__'\n",
    "\n",
    "print('-----------------------')\n",
    "\n",
    "for char in s:\n",
    "    print(char)"
   ]
  },
  {
   "cell_type": "code",
   "execution_count": 21,
   "metadata": {},
   "outputs": [
    {
     "name": "stdout",
     "output_type": "stream",
     "text": [
      "False\n"
     ]
    }
   ],
   "source": [
    "# number does't have iterator\n",
    "\n",
    "i = 10\n",
    "print(hasattr(i, '__iter__'))"
   ]
  },
  {
   "cell_type": "markdown",
   "metadata": {},
   "source": [
    "# break and continue\n"
   ]
  },
  {
   "cell_type": "code",
   "execution_count": 22,
   "metadata": {},
   "outputs": [
    {
     "name": "stdout",
     "output_type": "stream",
     "text": [
      "1\n",
      "2\n",
      "3\n",
      "value of i is: 3\n"
     ]
    }
   ],
   "source": [
    "i = 1\n",
    "while i < 6:\n",
    "    print(i)\n",
    "    if i == 3:\n",
    "        break\n",
    "    i += 1\n",
    "    \n",
    "print('value of i is:', i)"
   ]
  },
  {
   "cell_type": "code",
   "execution_count": 23,
   "metadata": {},
   "outputs": [
    {
     "name": "stdout",
     "output_type": "stream",
     "text": [
      "1\n",
      "3\n"
     ]
    }
   ],
   "source": [
    "list_of_items = [1, 2, 3]\n",
    "\n",
    "for item in list_of_items:\n",
    "    if item == 2:\n",
    "        continue\n",
    "    print(item)\n",
    "    "
   ]
  },
  {
   "cell_type": "markdown",
   "metadata": {},
   "source": [
    "# if statement\n",
    "\n",
    "Be careful with indentations"
   ]
  },
  {
   "cell_type": "code",
   "execution_count": 24,
   "metadata": {},
   "outputs": [
    {
     "name": "stdout",
     "output_type": "stream",
     "text": [
      "a is greater than b\n"
     ]
    }
   ],
   "source": [
    "a = 200\n",
    "b = 33\n",
    "if b > a:\n",
    "    print('b is greater than a')\n",
    "elif a == b:\n",
    "    print('a and b are equal')\n",
    "else:\n",
    "    print('a is greater than b')"
   ]
  },
  {
   "cell_type": "code",
   "execution_count": 25,
   "metadata": {},
   "outputs": [
    {
     "name": "stdout",
     "output_type": "stream",
     "text": [
      "a is greater than b\n",
      "33\n"
     ]
    }
   ],
   "source": [
    "# nested if statement\n",
    "a = 200\n",
    "b = 33\n",
    "if b > a:\n",
    "    print('b is greater than a')\n",
    "elif a == b:\n",
    "    print('a and b are equal')\n",
    "else:\n",
    "    print('a is greater than b')\n",
    "    if a < 100:\n",
    "        print(a)\n",
    "    else:\n",
    "        print(b)\n",
    "    "
   ]
  },
  {
   "cell_type": "markdown",
   "metadata": {},
   "source": [
    "# Python Comparison Operators\n",
    "\n",
    "You can compare different data types: numbers, strings, other objects\n",
    "\n",
    "- (==) Equal\tx == y\t\n",
    "- (!=) Not equal\tx != y\t\n",
    "- (>) Greater than x > y\t\n",
    "- (<) Less than x < y\n",
    "- (>=) Greater than or equal to x >= y\n",
    "- (<=) Less than or equal to x <= y"
   ]
  },
  {
   "cell_type": "code",
   "execution_count": 26,
   "metadata": {},
   "outputs": [
    {
     "name": "stdout",
     "output_type": "stream",
     "text": [
      "True\n",
      "False\n",
      "True\n",
      "True\n",
      "False\n"
     ]
    }
   ],
   "source": [
    "print(5 == 5)\n",
    "print(5 != 5)\n",
    "print(\"a\" == 'a')\n",
    "print('a' < 'b')\n",
    "print('5' == 5)"
   ]
  },
  {
   "cell_type": "markdown",
   "metadata": {},
   "source": [
    "# Python Identity Operators\n",
    "Identity operators are used to compare the objects, not if they are equal, but if they are actually the same object, with the same memory location\n",
    "- is\n",
    "- is not"
   ]
  },
  {
   "cell_type": "code",
   "execution_count": 27,
   "metadata": {},
   "outputs": [
    {
     "name": "stdout",
     "output_type": "stream",
     "text": [
      "True\n",
      "False\n",
      "True\n"
     ]
    }
   ],
   "source": [
    "x = [\"apple\", \"banana\"]\n",
    "y = [\"apple\", \"banana\"]\n",
    "z = x\n",
    "\n",
    "print(x is z) # returns True because z is the same object as x\n",
    "\n",
    "print(x is y) # returns False because x is not the same object as y, even if they have the same content\n",
    "\n",
    "print(x == y) # to demonstrate the difference betweeen \"is\" and \"==\": this comparison returns True because x is equal to y"
   ]
  },
  {
   "cell_type": "markdown",
   "metadata": {},
   "source": [
    "# Python Logical Operators\n",
    "Logical operators are used to combine conditional statements:\n",
    "- and\n",
    "- or\n",
    "- not"
   ]
  },
  {
   "cell_type": "code",
   "execution_count": 28,
   "metadata": {},
   "outputs": [
    {
     "name": "stdout",
     "output_type": "stream",
     "text": [
      "True\n",
      "True\n",
      "False\n"
     ]
    }
   ],
   "source": [
    "x = 5\n",
    "\n",
    "print(x > 3 and x < 10)\n",
    "\n",
    "print(x > 3 or x < 10)\n",
    "\n",
    "print(not(x > 3 and x < 10))\n"
   ]
  },
  {
   "cell_type": "markdown",
   "metadata": {},
   "source": [
    "# Python Bitwise Operators\n",
    "Bitwise operators are used to compare (binary) numbers:\n",
    "- &\n",
    "- |\n",
    "- ^\tXOR\ttrue if only one is true\n",
    "- ~ NOT inverts true to false\n",
    "\n",
    "You can use bitwise operators to perform Boolean logic on individual bits. That’s analogous to using logical operators such as and, or, and not, but on a bit level.\n",
    "\n",
    "It’s possible to evaluate Boolean expressions with bitwise operators instead of logical operators, but such overuse is generally discouraged.\n",
    "\n",
    "Unless you have a strong reason and know what you’re doing, you should use bitwise operators only for controlling bits. It’s too easy to get it wrong otherwise."
   ]
  },
  {
   "cell_type": "markdown",
   "metadata": {},
   "source": [
    "# Data structure\n",
    "Python has 4 built-in data types used to store collections of data:\n",
    "- List\n",
    "- Tuple\n",
    "- Set\n",
    "- Dictionary\n",
    "\n",
    "All of them are a collection of items. They differ by following characteristics: \n",
    "- ordered/not ordered (if collection is ordered you can use index to access item)\n",
    "- changeable/not changeable (change item)\n",
    "- allow/not allow duplicate values"
   ]
  },
  {
   "cell_type": "markdown",
   "metadata": {},
   "source": [
    "## List"
   ]
  },
  {
   "cell_type": "code",
   "execution_count": 29,
   "metadata": {},
   "outputs": [
    {
     "name": "stdout",
     "output_type": "stream",
     "text": [
      "<class 'list'>\n",
      "['apple', 'banana', 'banana', 'cherry']\n",
      "4\n",
      "-------\n",
      "apple\n",
      "cherry\n",
      "['banana', 'banana']\n",
      "['apple', 'banana', 'banana']\n",
      "-------\n",
      "apple\n",
      "banana\n",
      "banana\n",
      "cherry\n"
     ]
    }
   ],
   "source": [
    "# List uses []\n",
    "\n",
    "# List items are ordered, changeable, and allow duplicate values.\n",
    "# you can add, change, remove item in a list\n",
    "# list may be multidimentional\n",
    "# List items are indexed. The first item has index [0]\n",
    "# You can access the last element by [-1]\n",
    "# You can 'slice' a list - get a part of list as a list\n",
    "\n",
    "mylist = [\"apple\", \"banana\", \"banana\", \"cherry\"]\n",
    "print(type(mylist))\n",
    "print(mylist)\n",
    "print(len(mylist)) # length of list\n",
    "print('-------') # code separator for better readibility\n",
    "\n",
    "print(mylist[0])\n",
    "print(mylist[-1]) # last element\n",
    "print(mylist[1:3]) # get a slice of list starting at index 1 (included) to index 3 (excluded) -> returns list\n",
    "print(mylist[:3]) # get a slice of list from the beggining to index 3 (excluded) -> returns list\n",
    "print('-------')\n",
    "\n",
    "# loop through all items\n",
    "for item in mylist:\n",
    "    print(item)"
   ]
  },
  {
   "cell_type": "code",
   "execution_count": 30,
   "metadata": {},
   "outputs": [
    {
     "name": "stdout",
     "output_type": "stream",
     "text": [
      "a\n",
      "b\n",
      "1\n",
      "2\n",
      "1\n",
      "b\n",
      "3\n"
     ]
    }
   ],
   "source": [
    "# multi dimensional list\n",
    "multilist = [[\"a\", \"b\"], [1, 2], [1, 'b', 3]]\n",
    "\n",
    "for innerlist in multilist:\n",
    "    for item in innerlist:\n",
    "        print(item)"
   ]
  },
  {
   "cell_type": "code",
   "execution_count": 31,
   "metadata": {},
   "outputs": [
    {
     "name": "stdout",
     "output_type": "stream",
     "text": [
      "['a', 'b', 'c']\n",
      "['d', 'a', 'b', 'c']\n",
      "['x', 'a', 'b', 'c']\n",
      "['a', 'b', 'c']\n",
      "['a', 'c']\n"
     ]
    }
   ],
   "source": [
    "# add, change, remove\n",
    "mylist = ['a', 'b']\n",
    "mylist.append('c') # add/append item to the end of the list\n",
    "print(mylist)\n",
    "\n",
    "mylist.insert(0, \"d\") # add/insert item at the specified index\n",
    "print(mylist)\n",
    "\n",
    "mylist[0] = 'x' # change item\n",
    "print(mylist)\n",
    "\n",
    "mylist.remove('x') # remove specified item\n",
    "print(mylist)\n",
    "\n",
    "mylist.pop(1) # remove item from specified index\n",
    "print(mylist)"
   ]
  },
  {
   "cell_type": "markdown",
   "metadata": {},
   "source": [
    "## Tuple"
   ]
  },
  {
   "cell_type": "code",
   "execution_count": 32,
   "metadata": {},
   "outputs": [
    {
     "name": "stdout",
     "output_type": "stream",
     "text": [
      "<class 'tuple'>\n",
      "('a', 1, True)\n",
      "a\n",
      "1\n",
      "True\n"
     ]
    }
   ],
   "source": [
    "# Tuple uses ()\n",
    "\n",
    "# Tuple items are ordered, unchangeable, and allow duplicate values.\n",
    "# A tuple is a collection which is unchangeable. You can not add, change or remove item.\n",
    "# However there is workaroud to add, change or remove item. Just convert tuple to list, and next covert it back from list to tuple\n",
    "# Tuple is ordered. It means that you can use index to access item in tuple.\n",
    "\n",
    "mytuple = ('a', 1, True)\n",
    "print(type(mytuple))\n",
    "print(mytuple)\n",
    "\n",
    "for item in mytuple:\n",
    "    print(item)"
   ]
  },
  {
   "cell_type": "code",
   "execution_count": 33,
   "metadata": {},
   "outputs": [
    {
     "name": "stdout",
     "output_type": "stream",
     "text": [
      "<class 'tuple'>\n",
      "('a', 1, True, ['list', 'in', 'tuple'], ('tuple', 'in', 'tuple'))\n",
      "<class 'list'>\n",
      "['a', 1, True, ['list', 'in', 'tuple'], ('tuple', 'in', 'tuple')]\n",
      "<class 'tuple'>\n",
      "('a', 1, True, ['list', 'in', 'tuple'], ('tuple', 'in', 'tuple'))\n",
      "<class 'tuple'>\n",
      "('tuple', 'in', 'tuple')\n"
     ]
    }
   ],
   "source": [
    "# convert tuple to list and back\n",
    "mytuple = ('a', 1, True, ['list', 'in', 'tuple'], ('tuple', 'in', 'tuple'))\n",
    "print(type(mytuple))\n",
    "print(mytuple)\n",
    "\n",
    "mylist = list(mytuple)\n",
    "print(type(mylist))\n",
    "print(mylist)\n",
    "\n",
    "backtotuple = tuple(mylist)\n",
    "print(type(backtotuple))\n",
    "print(backtotuple)\n",
    "\n",
    "innertuple = mytuple[-1] # access item in tuple by index\n",
    "print(type(innertuple))\n",
    "print(innertuple)"
   ]
  },
  {
   "cell_type": "markdown",
   "metadata": {},
   "source": [
    "## Set"
   ]
  },
  {
   "cell_type": "code",
   "execution_count": 34,
   "metadata": {},
   "outputs": [
    {
     "name": "stdout",
     "output_type": "stream",
     "text": [
      "<class 'set'>\n",
      "{3, 1, 'a', 5}\n",
      "3\n",
      "1\n",
      "a\n",
      "5\n"
     ]
    }
   ],
   "source": [
    "# Set uses {}\n",
    "\n",
    "# Set items are unordered, unchangeable, and do not allow duplicate values.\n",
    "# Set items can appear in a different order every time you use them, and cannot be referred to by index or key.\n",
    "# Sets are unchangeable, meaning that we cannot change the items after the set has been created.\n",
    "# But you can add item to set or remove item from set\n",
    "\n",
    "myset = {\"a\", 1, 5, 3}\n",
    "print(type(myset))\n",
    "print(myset)\n",
    "\n",
    "for item in myset:\n",
    "    print(item)\n"
   ]
  },
  {
   "cell_type": "code",
   "execution_count": 35,
   "metadata": {},
   "outputs": [
    {
     "name": "stdout",
     "output_type": "stream",
     "text": [
      "{1, 3, 5, 'b', 'a'}\n",
      "{1, 3, 5, 'b'}\n"
     ]
    }
   ],
   "source": [
    "# add item\n",
    "myset = {\"a\", 1, 5, 3}\n",
    "myset.add('b')\n",
    "print(myset)\n",
    "\n",
    "# remove item\n",
    "myset.remove(\"a\")\n",
    "print(myset)"
   ]
  },
  {
   "cell_type": "markdown",
   "metadata": {},
   "source": [
    "## Dictionary"
   ]
  },
  {
   "cell_type": "code",
   "execution_count": 36,
   "metadata": {},
   "outputs": [
    {
     "name": "stdout",
     "output_type": "stream",
     "text": [
      "<class 'dict'>\n",
      "{'brand': 'Ford', 'model': 'Mustang', 'year': 1964}\n",
      "Ford\n"
     ]
    }
   ],
   "source": [
    "# dictionary uses {}\n",
    "\n",
    "# A dictionary is a collection which is unordered, changeable and does not allow duplicates.\n",
    "# Dictionaries are used to store data values in key:value pairs. Value can be referred to by using the key name.\n",
    "# Dictionaries are unordered, so they do not have index.\n",
    "# Dictionaries are changeable, meaning that we can change, add or remove item\n",
    "\n",
    "mydict = {\"brand\": \"Ford\", \"model\": \"Mustang\",\n",
    "          \"year\": 1964\n",
    "          }\n",
    "print(type(mydict))\n",
    "print(mydict)\n",
    "\n",
    "print(mydict[\"brand\"]) # access value by key"
   ]
  },
  {
   "cell_type": "code",
   "execution_count": 37,
   "metadata": {},
   "outputs": [
    {
     "name": "stdout",
     "output_type": "stream",
     "text": [
      "brand\n",
      "electric\n",
      "year\n",
      "colors\n",
      "--------------\n",
      "Ford\n",
      "False\n",
      "1964\n",
      "['red', 'white', 'blue']\n",
      "--------------\n",
      "Ford\n",
      "False\n",
      "1964\n",
      "['red', 'white', 'blue']\n",
      "<class 'dict_values'>\n",
      "dict_values(['Ford', False, 1964, ['red', 'white', 'blue']])\n",
      "--------------\n",
      "brand\n",
      "electric\n",
      "year\n",
      "colors\n",
      "<class 'dict_keys'>\n",
      "dict_keys(['brand', 'electric', 'year', 'colors'])\n",
      "--------------\n",
      "brand :  Ford\n",
      "electric :  False\n",
      "year :  1964\n",
      "colors :  ['red', 'white', 'blue']\n",
      "<class 'dict_items'>\n",
      "dict_items([('brand', 'Ford'), ('electric', False), ('year', 1964), ('colors', ['red', 'white', 'blue'])])\n"
     ]
    }
   ],
   "source": [
    "# You can store different data type\n",
    "\n",
    "mydict = {\n",
    "    \"brand\": \"Ford\",\n",
    "    \"electric\": False,\n",
    "    \"year\": 1964,\n",
    "    \"colors\": [\"red\", \"white\", \"blue\"]\n",
    "    }\n",
    "\n",
    "# looping\n",
    "for x in mydict: # it will print keys\n",
    "    print(x)\n",
    "    \n",
    "print('--------------')\n",
    "\n",
    "for x in mydict:\n",
    "    print(mydict[x]) # access value by using key\n",
    "    \n",
    "print('--------------')\n",
    "\n",
    "for x in mydict.values():  # use values() method to get values\n",
    "    print(x)\n",
    "\n",
    "print(type(mydict.values()))\n",
    "print(mydict.values())\n",
    "\n",
    "print('--------------')\n",
    "\n",
    "for x in mydict.keys():  # use keys() method to get keys\n",
    "    print(x)\n",
    "\n",
    "print(type(mydict.keys()))\n",
    "print(mydict.keys())\n",
    "\n",
    "print('--------------')\n",
    "\n",
    "for key, value in mydict.items():  # use items() method to get keys and values\n",
    "    print(key, (': '), value)\n",
    "\n",
    "print(type(mydict.items()))\n",
    "print(mydict.items())\n"
   ]
  },
  {
   "cell_type": "markdown",
   "metadata": {},
   "source": [
    "# Arrays\n",
    "\n",
    "Python does not have built-in support for Arrays, but Python Lists can be used instead.\n",
    "\n",
    "To work with arrays in Python you will have to import a library, like the NumPy library. You can find more about it in next tutorial."
   ]
  },
  {
   "cell_type": "markdown",
   "metadata": {},
   "source": [
    "# Functions\n",
    "A function is a reusable block of code which only runs when it is called.\n",
    "\n",
    "You can pass data, known as parameters, into a function.\n",
    "\n",
    "A function can return data as a result."
   ]
  },
  {
   "cell_type": "code",
   "execution_count": 38,
   "metadata": {},
   "outputs": [
    {
     "name": "stdout",
     "output_type": "stream",
     "text": [
      "Hello from a function\n",
      "------------------\n",
      "Hello from a function\n",
      "None\n",
      "--------------------\n",
      "Hello from a function\n",
      "<class 'NoneType'>\n"
     ]
    }
   ],
   "source": [
    "def my_function():\n",
    "    print(\"Hello from a function\")\n",
    "\n",
    "my_function() # execute function\n",
    "\n",
    "print('------------------')\n",
    "\n",
    "print(my_function()) # it executes function. Function returns 'None'\n",
    "\n",
    "print('--------------------')\n",
    "\n",
    "# None is an object, meaning no value. None is not the same as 0, False, or an empty string.\n",
    "x = my_function()\n",
    "print(type(x))"
   ]
  },
  {
   "cell_type": "code",
   "execution_count": 39,
   "metadata": {},
   "outputs": [
    {
     "name": "stdout",
     "output_type": "stream",
     "text": [
      "30\n"
     ]
    }
   ],
   "source": [
    "# pass parameter, return value from function\n",
    "def other_function(x, y):\n",
    "    result = sum([x, y]) # sum() is build-in function that takes iterable as parameter. List [10, 20] is iterable.\n",
    "    return result\n",
    "\n",
    "my_sum = other_function(10, 20)\n",
    "print(my_sum)"
   ]
  },
  {
   "cell_type": "code",
   "execution_count": 40,
   "metadata": {},
   "outputs": [
    {
     "name": "stdout",
     "output_type": "stream",
     "text": [
      "<class 'tuple'>\n",
      "10\n",
      "100\n"
     ]
    }
   ],
   "source": [
    "# *args - Arbitrary Arguments\n",
    "# If you do not know how many arguments will be passed into your function,\n",
    "# add a * before the parameter name in the function definition.\n",
    "# This way the function will receive a tuple of arguments, and can access the items accordingly\n",
    "\n",
    "def other_function(*mytuple):\n",
    "    \n",
    "    print(type(mytuple))\n",
    "    \n",
    "    print(mytuple[0])\n",
    "    \n",
    "    result = sum(mytuple) # tuple is iterable\n",
    "    return result\n",
    "\n",
    "a = other_function(10, 20, 30, 40)\n",
    "print(a)"
   ]
  },
  {
   "cell_type": "code",
   "execution_count": 41,
   "metadata": {},
   "outputs": [
    {
     "name": "stdout",
     "output_type": "stream",
     "text": [
      "131\n",
      "-------------\n",
      "106\n",
      "106\n"
     ]
    }
   ],
   "source": [
    "# You can assign a default value to parameter. If argument is not passed to parameter, the default one is used.\n",
    "# They are called Keyword Arguments. The syntax is key = value\n",
    "# The phrase Keyword Arguments are often shortened to kwargs in Python documentations.\n",
    "\n",
    "def other_function(x, y, z=100, i=1):\n",
    "    result = sum([x, y, z, i])\n",
    "    return result\n",
    "\n",
    "a = other_function(10, 20)\n",
    "print(a)\n",
    "\n",
    "print('-------------')\n",
    "\n",
    "# use the following syntax if you want to change just few parameter values\n",
    "a = other_function(1, 2, i=3)\n",
    "print(a)\n",
    "\n",
    "# you can do also like this\n",
    "a = other_function(x=1, y=2, i=3)\n",
    "print(a)"
   ]
  },
  {
   "cell_type": "code",
   "execution_count": 42,
   "metadata": {},
   "outputs": [
    {
     "name": "stdout",
     "output_type": "stream",
     "text": [
      "<class 'dict'>\n",
      "His last name is Refsnes\n"
     ]
    }
   ],
   "source": [
    "# **kwargs - Arbitrary Keyword Arguments (it is common in Python documentation).\n",
    "# It means that the functions takes arbitrary keyword arguments.\n",
    "# This way the function will receive a dictionary of arguments, and can access the items accordingly\n",
    "\n",
    "# If you do not know how many keyword arguments that will be passed into your function, \n",
    "# add two asterisk: ** before the parameter name in the function definition.\n",
    "\n",
    "def my_function(**mydict):\n",
    "    print(type(mydict))\n",
    "    print(\"His last name is \" + mydict[\"lname\"])\n",
    "\n",
    "my_function(fname = \"Tobias\", lname = \"Refsnes\")"
   ]
  },
  {
   "cell_type": "code",
   "execution_count": 43,
   "metadata": {},
   "outputs": [
    {
     "name": "stdout",
     "output_type": "stream",
     "text": [
      "<class 'function'>\n",
      "---------------\n",
      "some code...\n",
      "5\n",
      "---------------\n",
      "<function some_function at 0x000001ED87049310>\n"
     ]
    }
   ],
   "source": [
    "# Functions are objects\n",
    "# This means that they can be passed as arguments to other functions, \n",
    "# assigned to variables or even stored as elements in various data structures.\n",
    "\n",
    "def some_function():\n",
    "    print('some code...')\n",
    "    return 5\n",
    "    \n",
    "print(type(some_function))\n",
    "\n",
    "print('---------------')\n",
    "\n",
    "def take_function(x):\n",
    "    y = x\n",
    "    print(y)\n",
    "    \n",
    "take_function(some_function()) # remember to use () when calling a function: some_function()\n",
    "\n",
    "print('---------------')\n",
    "\n",
    "take_function(some_function) # passing just the name of function in that case will produce <function some_function at 0x00...>"
   ]
  },
  {
   "cell_type": "markdown",
   "metadata": {},
   "source": [
    "# Reading documentation: build-in function example\n",
    "\n",
    "This is to demonstrate how to read documentation usign print() function as an example.\n",
    "\n",
    "Link to all build-in functions: https://docs.python.org/3/library/functions.html\n",
    "\n",
    "Link to print() function: https://docs.python.org/3/library/functions.html#print\n",
    "\n",
    "### print() method with its parameters\n",
    "print(*objects, sep=' ', end='\\n', file=sys.stdout, flush=False)\n",
    "\n",
    "\n",
    "### my comments just by looking at method and its parameters\n",
    "- *objects - non-keyword arguments, Arbitrary Arguments; a tuple of arguments\n",
    "- sep=' ' - Keyword Argument with default value ' ' (space)\n",
    "- end='\\n' - Keyword Argument with default value '\\n'\n",
    "- file=sys.stdout - Keyword Argument with default value file=sys.stdout\n",
    "- flush=False - Keyword Argument with default value flush=False\n",
    "\n",
    "### official documentation\n",
    "Print objects to the text stream file, separated by sep and followed by end. sep, end, file and flush, if present, must be given as keyword arguments.\n",
    "\n",
    "All non-keyword arguments are converted to strings like str() does and written to the stream, separated by sep and followed by end. Both sep and end must be strings; they can also be None, which means to use the default values. If no objects are given, print() will just write end.\n",
    "\n",
    "The file argument must be an object with a write(string) method; if it is not present or None, sys.stdout will be used. Since printed arguments are converted to text strings, print() cannot be used with binary mode file objects. For these, use file.write(...) instead.\n",
    "\n",
    "Whether output is buffered is usually determined by file, but if the flush keyword argument is true, the stream is forcibly flushed.\n",
    "\n",
    "Changed in version 3.3: Added the flush keyword argument.\n",
    "\n",
    "### my other comments:\n",
    "\n",
    "flush=False was added in version 3.3. It will throw error if you assign value to this parameter in print() function and then run code in version lower than 3.3"
   ]
  },
  {
   "cell_type": "code",
   "execution_count": 44,
   "metadata": {},
   "outputs": [
    {
     "name": "stdout",
     "output_type": "stream",
     "text": [
      "100<anythnig>abc<anythnig>200this is the end\n"
     ]
    }
   ],
   "source": [
    "# It is a test to see, what else we can do with print() function, besides its default behaviour\n",
    "\n",
    "print(100, 'abc', 200, sep='<anythnig>', end='this is the end\\n')"
   ]
  },
  {
   "cell_type": "markdown",
   "metadata": {},
   "source": [
    "# Classes\n",
    "\n",
    "Classes provide a means of bundling data and functionality together. It contains attributes: \n",
    "- data attributes - store object state/data\n",
    "- methods - modify object state/data. Methods are special attributes. Methods are functions that belong to an object. Use 'def' keyword to define method. Important: every method definition must have 'self' as a first parameter, even methods without any parameters, i.e.:\n",
    "    - def method_without_param(self):\n",
    "    \n",
    "         print('sth')\n",
    "         \n",
    "    - def method_with_param(self, other_param):\n",
    "     \n",
    "         print(other_param)\n",
    "\n",
    "You can instantiate new object using class definition. Just call a class like a function, i.e. my_object = my_class()\n",
    "\n",
    "You refer to object attributes (data attributes and method) by dot notation, i.e. my_object.my_attribute or my_object.my_method()\n",
    "\n",
    "Other characteristics:\n",
    "- constructor: \\__init__ method is used as a constructor\n",
    "- class variable: must be define before constructor\n",
    "- instance variables: if you use \\__init__ as a constructor, instance variables must be define within \\__init__ body even if they are not a part of \\__init__ parameters\n",
    "- no access modifiers. You can simulate it (just a convention) by using double underscore before attribute name: \\__my_pritave_attribute\n",
    "- keyword 'self' is very important\n",
    "- use camelcase for class name\n",
    "\n",
    "Class may be extended (inheritance)."
   ]
  },
  {
   "cell_type": "code",
   "execution_count": 45,
   "metadata": {},
   "outputs": [
    {
     "name": "stdout",
     "output_type": "stream",
     "text": [
      "12345\n",
      "12345\n",
      "hello world\n",
      "argument\n",
      "---------------\n",
      "<bound method MyClass.f_without_argument of <__main__.MyClass object at 0x000001ED87035760>>\n"
     ]
    },
    {
     "data": {
      "text/plain": [
       "'hello world'"
      ]
     },
     "execution_count": 45,
     "metadata": {},
     "output_type": "execute_result"
    }
   ],
   "source": [
    "# simple class\n",
    "\n",
    "# define class\n",
    "class MyClass:\n",
    "    i = 12345\n",
    "\n",
    "    def f_without_argument(self):\n",
    "        return 'hello world'\n",
    "    \n",
    "    def f_with_argument(self, l):\n",
    "        return l\n",
    "    \n",
    "# create object\n",
    "my_object = MyClass()\n",
    "\n",
    "x = my_object.i\n",
    "print(x)\n",
    "print(MyClass.i) # 'i' is a class variable. You can access by using class name. No need to create object to access it\n",
    "\n",
    "y = my_object.f_without_argument() # do not pass any argument\n",
    "print(y)\n",
    "\n",
    "z = my_object.f_with_argument('argument') # pass one argument\n",
    "print(z)\n",
    "\n",
    "print('---------------')\n",
    "# You can refer to method as like to attribute, without using () at the end. \n",
    "# if you refer to method without () it will return (or bound to) method definition, but method will not execute\n",
    "other = my_object.f_without_argument\n",
    "print(other)\n",
    "# now you can call 'other' like a method\n",
    "other()"
   ]
  },
  {
   "cell_type": "code",
   "execution_count": 46,
   "metadata": {},
   "outputs": [
    {
     "name": "stdout",
     "output_type": "stream",
     "text": [
      "Fafik\n",
      "canine\n",
      "canine\n"
     ]
    }
   ],
   "source": [
    "# complex class\n",
    "\n",
    "class Dog:\n",
    "\n",
    "    kind = 'canine'         # class variable shared by all instances\n",
    "\n",
    "    def __init__(self, name): # constructor\n",
    "        self.name = name    # instance variable unique to each instance. Will be instantiated during creation of new object\n",
    "        self.address = ''   # instance variable. You must always instantiate variable if it has no refered parameter in a constructor\n",
    "\n",
    "    def get_name(self):\n",
    "        return self.name # use 'self' to refer to instance variable\n",
    "    \n",
    "    def get_kind(self):\n",
    "        return self.kind # use 'self' to refer to instance variable\n",
    "        \n",
    "my_object = Dog('Fafik')\n",
    "\n",
    "dog_name = my_object.get_name()\n",
    "print(dog_name)\n",
    "\n",
    "dog_kind = my_object.get_kind()\n",
    "print(dog_kind)\n",
    "print(Dog.kind) # you can access class variable just by using class name. No need to create object"
   ]
  },
  {
   "cell_type": "markdown",
   "metadata": {},
   "source": [
    "# Import package, module or object\n",
    "A package is a collection of Python modules. A module is a single Python file. A module may contain many objects (functions/classes) that are availabel to import.\n",
    "\n",
    "You can import package, module or single object.\n",
    "\n",
    "Python has many build-in modules. Build-in modules must be imported before code execution. Do not confuse Python build-in modules with build-in functions that doesn't need to be imported, i.e. print() function."
   ]
  },
  {
   "cell_type": "code",
   "execution_count": 47,
   "metadata": {},
   "outputs": [
    {
     "name": "stdout",
     "output_type": "stream",
     "text": [
      "9\n"
     ]
    }
   ],
   "source": [
    "import random # import the whole random module\n",
    "\n",
    "# Refer to function in module by using module name: <module_name>.<function_mame>\n",
    "print(random.randrange(1, 10)) # randrange() is a function in random module. "
   ]
  },
  {
   "cell_type": "code",
   "execution_count": 48,
   "metadata": {},
   "outputs": [
    {
     "name": "stdout",
     "output_type": "stream",
     "text": [
      "7\n"
     ]
    }
   ],
   "source": [
    "import random as ran # it is common to alias the name of package to use an abbreviation\n",
    "\n",
    "print(ran.randrange(1, 10))"
   ]
  },
  {
   "cell_type": "code",
   "execution_count": 49,
   "metadata": {},
   "outputs": [
    {
     "name": "stdout",
     "output_type": "stream",
     "text": [
      "1\n"
     ]
    }
   ],
   "source": [
    "from random import randrange # you can also import single object from module\n",
    "from random import * # import all objects from module\n",
    "\n",
    "print(randrange(1, 10)) # no need to refer to it by module name"
   ]
  },
  {
   "cell_type": "code",
   "execution_count": null,
   "metadata": {},
   "outputs": [],
   "source": []
  }
 ],
 "metadata": {
  "kernelspec": {
   "display_name": "Python 3",
   "language": "python",
   "name": "python3"
  },
  "language_info": {
   "codemirror_mode": {
    "name": "ipython",
    "version": 3
   },
   "file_extension": ".py",
   "mimetype": "text/x-python",
   "name": "python",
   "nbconvert_exporter": "python",
   "pygments_lexer": "ipython3",
   "version": "3.8.3"
  }
 },
 "nbformat": 4,
 "nbformat_minor": 4
}
