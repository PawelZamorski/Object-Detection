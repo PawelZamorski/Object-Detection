{
 "cells": [
  {
   "cell_type": "markdown",
   "id": "bright-lesson",
   "metadata": {},
   "source": [
    "# Neuron Network for image recognition using MNIST dataset\n",
    "\n",
    "MNIST dataset is availabel at Keras datasets module. It contains 60000 training images and 10000 test images."
   ]
  },
  {
   "cell_type": "code",
   "execution_count": 1,
   "id": "integrated-fight",
   "metadata": {},
   "outputs": [],
   "source": [
    "from keras.datasets import mnist\n",
    "from keras.models import Sequential\n",
    "from keras.layers import Dense, Activation\n",
    "\n",
    "import numpy as np\n",
    "from matplotlib import pyplot as plt"
   ]
  },
  {
   "cell_type": "code",
   "execution_count": 2,
   "id": "alpine-southeast",
   "metadata": {},
   "outputs": [],
   "source": [
    "(x_train, y_train), (x_test, y_test) = mnist.load_data() # method returns 2 tuples of Numpy arrays"
   ]
  },
  {
   "cell_type": "code",
   "execution_count": 3,
   "id": "super-toilet",
   "metadata": {},
   "outputs": [],
   "source": [
    "model = Sequential()\n",
    "model.add(Dense(256, input_dim=784, activation='relu'))\n",
    "model.add(Dense(10, activation='softmax'))\n",
    "model.compile(loss='categorical_crossentropy', optimizer='adam', metrics=['accuracy'])\n"
   ]
  },
  {
   "cell_type": "code",
   "execution_count": 4,
   "id": "original-tattoo",
   "metadata": {},
   "outputs": [
    {
     "data": {
      "text/plain": [
       "(28, 28)"
      ]
     },
     "execution_count": 4,
     "metadata": {},
     "output_type": "execute_result"
    }
   ],
   "source": [
    "x_train[0].shape # just checking the shape of a single image"
   ]
  },
  {
   "cell_type": "code",
   "execution_count": 5,
   "id": "blank-front",
   "metadata": {},
   "outputs": [],
   "source": [
    "# convert target data to categorical\n",
    "from keras.utils import to_categorical\n",
    "\n",
    "y_train = to_categorical(y_train)\n",
    "y_test = to_categorical(y_test)"
   ]
  },
  {
   "cell_type": "code",
   "execution_count": 6,
   "id": "august-repeat",
   "metadata": {},
   "outputs": [
    {
     "name": "stdout",
     "output_type": "stream",
     "text": [
      "(60000, 28, 28)\n"
     ]
    },
    {
     "data": {
      "text/plain": [
       "(60000, 784)"
      ]
     },
     "execution_count": 6,
     "metadata": {},
     "output_type": "execute_result"
    }
   ],
   "source": [
    "# reshape input data\n",
    "print(x_train.shape)\n",
    "x_train = np.reshape(x_train, (60000, 784)) # 60000 images. Flatten only every image 28x28=784, not the whole array.\n",
    "x_train.shape"
   ]
  },
  {
   "cell_type": "code",
   "execution_count": 7,
   "id": "bacterial-college",
   "metadata": {},
   "outputs": [
    {
     "name": "stdout",
     "output_type": "stream",
     "text": [
      "(10000, 28, 28)\n"
     ]
    },
    {
     "data": {
      "text/plain": [
       "(10000, 784)"
      ]
     },
     "execution_count": 7,
     "metadata": {},
     "output_type": "execute_result"
    }
   ],
   "source": [
    "# reshape input data\n",
    "print(x_test.shape)\n",
    "x_test = np.reshape(x_test, (10000, 784))\n",
    "x_test.shape"
   ]
  },
  {
   "cell_type": "code",
   "execution_count": 8,
   "id": "documentary-aside",
   "metadata": {},
   "outputs": [
    {
     "name": "stdout",
     "output_type": "stream",
     "text": [
      "Epoch 1/10\n",
      "   1/1875 [..............................] - ETA: 0s - loss: 168.3833 - accuracy: 0.0625WARNING:tensorflow:Callbacks method `on_train_batch_end` is slow compared to the batch time (batch time: 0.0010s vs `on_train_batch_end` time: 0.0023s). Check your callbacks.\n",
      "1875/1875 [==============================] - 6s 3ms/step - loss: 2.6108 - accuracy: 0.8885 - val_loss: 0.5708 - val_accuracy: 0.8999\n",
      "Epoch 2/10\n",
      "1875/1875 [==============================] - 5s 3ms/step - loss: 0.3406 - accuracy: 0.9258 - val_loss: 0.3007 - val_accuracy: 0.9334\n",
      "Epoch 3/10\n",
      "1875/1875 [==============================] - 8s 4ms/step - loss: 0.2771 - accuracy: 0.9356 - val_loss: 0.2976 - val_accuracy: 0.9351\n",
      "Epoch 4/10\n",
      "1875/1875 [==============================] - 6s 3ms/step - loss: 0.2450 - accuracy: 0.9424 - val_loss: 0.2748 - val_accuracy: 0.9422\n",
      "Epoch 5/10\n",
      "1875/1875 [==============================] - 6s 3ms/step - loss: 0.2238 - accuracy: 0.9460 - val_loss: 0.2953 - val_accuracy: 0.9433\n",
      "Epoch 6/10\n",
      "1875/1875 [==============================] - 6s 3ms/step - loss: 0.2092 - accuracy: 0.9518 - val_loss: 0.3004 - val_accuracy: 0.9408\n",
      "Epoch 7/10\n",
      "1875/1875 [==============================] - 5s 3ms/step - loss: 0.2112 - accuracy: 0.9520 - val_loss: 0.2550 - val_accuracy: 0.9530\n",
      "Epoch 8/10\n",
      "1875/1875 [==============================] - 7s 4ms/step - loss: 0.1891 - accuracy: 0.9552 - val_loss: 0.2988 - val_accuracy: 0.9463\n",
      "Epoch 9/10\n",
      "1875/1875 [==============================] - 6s 3ms/step - loss: 0.1925 - accuracy: 0.9573 - val_loss: 0.3206 - val_accuracy: 0.9442\n",
      "Epoch 10/10\n",
      "1875/1875 [==============================] - 7s 4ms/step - loss: 0.1776 - accuracy: 0.9604 - val_loss: 0.3206 - val_accuracy: 0.9453\n"
     ]
    }
   ],
   "source": [
    "# train model\n",
    "# keep the history in log\n",
    "\n",
    "log = model.fit(x_train, y_train, epochs=10, validation_data=(x_test, y_test))\n",
    "\n",
    "# the accuracy is high from the first epoch.\n",
    "# It is because there is a huge amount of training instances (60000 images), so model already run 60000 times\n",
    "# the more instances the better"
   ]
  },
  {
   "cell_type": "code",
   "execution_count": 9,
   "id": "original-kernel",
   "metadata": {},
   "outputs": [
    {
     "data": {
      "text/plain": [
       "[<matplotlib.lines.Line2D at 0x1a9ff1f59a0>]"
      ]
     },
     "execution_count": 9,
     "metadata": {},
     "output_type": "execute_result"
    },
    {
     "data": {
      "image/png": "[encoded data removed]",
      "text/plain": [
       "<Figure size 432x432 with 1 Axes>"
      ]
     },
     "metadata": {
      "needs_background": "light"
     },
     "output_type": "display_data"
    }
   ],
   "source": [
    "plt.figure(figsize=(6, 6))\n",
    "\n",
    "plt.plot(log.history['loss'])\n",
    "plt.plot(log.history['val_loss'])"
   ]
  },
  {
   "cell_type": "code",
   "execution_count": 10,
   "id": "impressive-stress",
   "metadata": {},
   "outputs": [
    {
     "data": {
      "text/plain": [
       "[<matplotlib.lines.Line2D at 0x1a9ff94f310>]"
      ]
     },
     "execution_count": 10,
     "metadata": {},
     "output_type": "execute_result"
    },
    {
     "data": {
      "image/png": "[encoded data removed]",
      "text/plain": [
       "<Figure size 432x432 with 1 Axes>"
      ]
     },
     "metadata": {
      "needs_background": "light"
     },
     "output_type": "display_data"
    }
   ],
   "source": [
    "plt.figure(figsize=(6, 6))\n",
    "\n",
    "plt.plot(log.history['accuracy'])\n",
    "plt.plot(log.history['val_accuracy'])"
   ]
  },
  {
   "cell_type": "code",
   "execution_count": null,
   "id": "bound-reform",
   "metadata": {},
   "outputs": [],
   "source": []
  },
  {
   "cell_type": "markdown",
   "id": "dominant-grave",
   "metadata": {},
   "source": [
    "# Once again about NN architecture\n",
    "Within a neural network there's an input layer, that takes the input signals and passes them to the next layer.\n",
    "Next, the neural network contains a series of hidden layers which apply transformations to the input data. It is within the nodes of the hidden layers that the weights are applied. For example, a single node may take the input data and multiply it by an assigned weight value, then add a bias before passing the data to the next layer. The final layer of the neural network is also known as the output layer. The output layer often tunes the inputs from the hidden layers to produce the desired numbers in a specified range.\n",
    "\n",
    "# Weight vs. Bias\n",
    "Weights and bias are both learnable parameters inside the network. A teachable neural network will randomize both the weight and bias values before learning initially begins. As training continues, both parameters are adjusted toward the desired values and the correct output.\n",
    "\n",
    "The two parameters differ in the extent of their influence upon the input data. Simply, bias represents how far the predictions are from their intended value. \n",
    "\n",
    "Biases make up the difference between the function's output and its intended output. A low bias suggest that the network is making more assumptions about the form of the output, whereas a high bias value makes less assumptions about the form of the output.\n",
    "\n",
    "Weights, on the other hand, can be thought of as the strength of the connection. Weight affects the amount of influence a change in the input will have upon the output. A low weight value will have no change on the input, and alternatively a larger weight value will more significantly change the output."
   ]
  },
  {
   "cell_type": "code",
   "execution_count": 11,
   "id": "continuous-transcription",
   "metadata": {},
   "outputs": [
    {
     "data": {
      "text/plain": [
       "[<tensorflow.python.keras.layers.core.Dense at 0x1a9f08472e0>,\n",
       " <tensorflow.python.keras.layers.core.Dense at 0x1a9fd83ff70>]"
      ]
     },
     "execution_count": 11,
     "metadata": {},
     "output_type": "execute_result"
    }
   ],
   "source": [
    "# display layers in a model\n",
    "model.layers\n",
    "\n",
    "# array of Layers"
   ]
  },
  {
   "cell_type": "code",
   "execution_count": 12,
   "id": "diagnostic-physics",
   "metadata": {},
   "outputs": [
    {
     "name": "stdout",
     "output_type": "stream",
     "text": [
      "(None, 256)\n",
      "(None, 10)\n"
     ]
    }
   ],
   "source": [
    "# display info about an output shape of layers\n",
    "for layer in model.layers:\n",
    "    print(layer.output_shape)\n",
    "    \n",
    "# first layer has output shape 256, second 10 "
   ]
  },
  {
   "cell_type": "code",
   "execution_count": 13,
   "id": "bridal-humidity",
   "metadata": {},
   "outputs": [
    {
     "name": "stdout",
     "output_type": "stream",
     "text": [
      "Lenght of list:  2\n"
     ]
    }
   ],
   "source": [
    "# get weights from the first layer\n",
    "\n",
    "# https://keras.io/api/layers/base_layer/#getweights-method\n",
    "\n",
    "weights_1 = model.layers[0].get_weights() # returns the weights of the layer as a list of NumPy arrays.\n",
    "\n",
    "print('Lenght of list: ', len(weights_1))\n",
    "\n",
    "# a Dense layer returns a list of two values: per-output weights and the bias value"
   ]
  },
  {
   "cell_type": "code",
   "execution_count": 14,
   "id": "limiting-asbestos",
   "metadata": {},
   "outputs": [
    {
     "name": "stdout",
     "output_type": "stream",
     "text": [
      "shape of weights array:  (784, 256)\n",
      "[ 0.07381928  0.01984593  0.05081892 -0.02725484 -0.06141549 -0.02191065\n",
      "  0.0595839   0.04098856 -0.0626848  -0.03068267 -0.04182937  0.0711232\n",
      "  0.06897986 -0.02647906  0.05055211  0.00084851 -0.07350358 -0.02227387\n",
      "  0.0062999  -0.0179495  -0.00358997 -0.03198221  0.05342859  0.01645721\n",
      "  0.00138472  0.04588809 -0.0091437  -0.07167069  0.00124633  0.0595392\n",
      "  0.04669905  0.01120459  0.02019088 -0.00754816  0.00347108 -0.06720203\n",
      " -0.02020308 -0.00596037 -0.06461236 -0.0392837  -0.04023341 -0.04600484\n",
      " -0.068887    0.06425671  0.06129208  0.00884996 -0.0425836   0.04382989\n",
      "  0.01502112  0.02364273 -0.03521466 -0.07090641  0.01638509  0.00956294\n",
      " -0.06198495 -0.03548557  0.00425485 -0.01154409 -0.01512451  0.02653781\n",
      "  0.05084671  0.01427696 -0.00842532 -0.03359608 -0.03201124  0.06139861\n",
      " -0.02662304  0.04477398 -0.01333451  0.04705212  0.00692191  0.04590723\n",
      " -0.03905587  0.01017722 -0.03020798  0.05976617 -0.06534538  0.05601624\n",
      " -0.00270689  0.0121184   0.06106353 -0.01248199 -0.02039845 -0.01896773\n",
      " -0.04862258  0.01096495  0.03628817 -0.04900133  0.02968589 -0.00326134\n",
      "  0.07000147 -0.0710597  -0.03085046 -0.07170202  0.01637442 -0.05716995\n",
      " -0.00633708  0.02187482 -0.0608862   0.05333278  0.06427766 -0.05488648\n",
      " -0.00439782  0.06715569 -0.04726271 -0.01316788  0.00274342  0.04951482\n",
      " -0.05090217  0.05373535 -0.03295425  0.04159402 -0.02202087 -0.02341669\n",
      "  0.04300522 -0.01443167 -0.00593635  0.02583383 -0.06554258 -0.03564598\n",
      " -0.05546617 -0.00809631  0.03022156  0.04984881  0.07262342 -0.05109488\n",
      "  0.05366848  0.01715804  0.03869403 -0.00570898  0.07014827  0.01280323\n",
      " -0.02105726 -0.01213212 -0.02217083 -0.06492163 -0.0637188   0.04214311\n",
      "  0.00441939  0.06461692 -0.02219102 -0.03679413  0.07483664 -0.0601688\n",
      "  0.06068185 -0.07017697 -0.05693231 -0.03957653 -0.02390605 -0.00860621\n",
      "  0.0343318  -0.01676916  0.00980372  0.07172991  0.05448207 -0.00383477\n",
      " -0.02399383  0.04721035  0.03431587 -0.03114602 -0.05803389 -0.05550336\n",
      "  0.00890473  0.06579266  0.05446723 -0.07543175  0.06163001 -0.03672328\n",
      " -0.05857155 -0.05630421  0.03361935  0.04651181  0.00583487 -0.05661902\n",
      " -0.04615048  0.06679912 -0.0478694  -0.06942935  0.02021495  0.0589636\n",
      " -0.06194519  0.00552829 -0.04120587  0.0127852  -0.02644406 -0.05664785\n",
      " -0.01808261 -0.01714633  0.0596292  -0.04860425  0.05263853  0.02897795\n",
      " -0.06933998  0.07525191  0.00555157  0.06677222  0.04580601  0.06476319\n",
      "  0.00450683  0.02354831  0.04183529 -0.04740468  0.020663    0.03365086\n",
      " -0.02348156 -0.00366706  0.01939656  0.05743837 -0.01669595  0.07532398\n",
      " -0.03522325 -0.04467012  0.07428609 -0.07329827 -0.05749326  0.02380902\n",
      "  0.01058066  0.06043185  0.06369042 -0.01971624  0.04690821 -0.04199373\n",
      "  0.07052507  0.03347263 -0.02065931  0.02839139  0.05440263 -0.02642776\n",
      " -0.00468338 -0.00591531  0.07317992 -0.03818343  0.00580525  0.05599806\n",
      "  0.00342878  0.03952546 -0.04230218 -0.02871739  0.02596662 -0.04352126\n",
      " -0.05004777 -0.01217698  0.01951334 -0.04807852  0.06205697 -0.00557113\n",
      "  0.0094947   0.02809138 -0.00879676  0.00402033  0.03058898  0.01601458\n",
      " -0.07313898 -0.07374028  0.04215243 -0.03721636]\n"
     ]
    }
   ],
   "source": [
    "# display weights in Dense hidden layer (there are 256 neurons (units), all of them have 784 weights)\n",
    "\n",
    "print('shape of weights array: ', weights_1[0].shape)\n",
    "# shape is 2d array with 784 arrays each of size 256\n",
    "# inner array contains weights associated with inputs. Each input goes to 256 units in hidden layer, so it has 256 weights.\n",
    "\n",
    "print(weights_1[0][0]) "
   ]
  },
  {
   "cell_type": "code",
   "execution_count": 15,
   "id": "viral-greene",
   "metadata": {},
   "outputs": [
    {
     "name": "stdout",
     "output_type": "stream",
     "text": [
      "Number of weights:  784\n",
      "First 10 weights:  [ 0.07381928 -0.02848833 -0.04910088  0.06731418 -0.03489225 -0.01911099\n",
      "  0.05861685 -0.02322143 -0.01940621  0.00890911]\n"
     ]
    }
   ],
   "source": [
    "# display weights in Dense hidden layer that belongs to the first unit in hidden layer\n",
    "# take first item from each inner array\n",
    "\n",
    "unit_weights = np.array([])\n",
    "\n",
    "for inner_arr in weights_1[0]:\n",
    "    unit_weights = np.append(unit_weights, inner_arr[0])\n",
    "    \n",
    "print('Number of weights: ', len(unit_weights))\n",
    "print('First 10 weights: ', unit_weights[0:10])"
   ]
  },
  {
   "cell_type": "code",
   "execution_count": 16,
   "id": "pediatric-vintage",
   "metadata": {},
   "outputs": [
    {
     "name": "stdout",
     "output_type": "stream",
     "text": [
      "Number of all biasis:  256\n",
      "-0.034120575\n"
     ]
    }
   ],
   "source": [
    "# display bias of the first neuron in Dense hidden layer (there are 256 neurons, all of them have 1 bias)\n",
    "\n",
    "print('Number of all biasis: ', len(weights_1[1]))\n",
    "print(weights_1[1][0])\n"
   ]
  },
  {
   "cell_type": "code",
   "execution_count": 17,
   "id": "incorrect-compatibility",
   "metadata": {},
   "outputs": [
    {
     "name": "stdout",
     "output_type": "stream",
     "text": [
      "Lenght of list:  2\n"
     ]
    }
   ],
   "source": [
    "# get weights of second layer\n",
    "\n",
    "weights_2 = model.layers[1].get_weights() # returns the weights of the layer as a list of Numpy arrays.\n",
    "\n",
    "print('Lenght of list: ', len(weights_2))"
   ]
  },
  {
   "cell_type": "code",
   "execution_count": 18,
   "id": "palestinian-donor",
   "metadata": {},
   "outputs": [
    {
     "name": "stdout",
     "output_type": "stream",
     "text": [
      "Number of weights:  256\n",
      "First 15 weights:  [ 0.07570875  0.08601671 -0.18172081 -0.11146076 -0.01450309 -0.15043087\n",
      "  0.00309885  0.07367884  0.00449659 -0.01191933  0.08320311 -0.14177044\n",
      "  0.0891301   0.08154213  0.12576182]\n"
     ]
    }
   ],
   "source": [
    "unit_weights_2 = np.array([])\n",
    "\n",
    "for inner_arr in weights_2[0]:\n",
    "    unit_weights_2 = np.append(unit_weights_2, inner_arr[0])\n",
    "    \n",
    "print('Number of weights: ', len(unit_weights_2))\n",
    "print('First 15 weights: ', unit_weights_2[0:15])"
   ]
  },
  {
   "cell_type": "code",
   "execution_count": 19,
   "id": "wrapped-philosophy",
   "metadata": {},
   "outputs": [
    {
     "name": "stdout",
     "output_type": "stream",
     "text": [
      "Number of all biasis:  10\n",
      "0.9606241\n"
     ]
    }
   ],
   "source": [
    "print('Number of all biasis: ', len(weights_2[1]))\n",
    "print(weights_2[1][0])"
   ]
  },
  {
   "cell_type": "code",
   "execution_count": 20,
   "id": "saving-conflict",
   "metadata": {},
   "outputs": [
    {
     "data": {
      "text/plain": [
       "{'name': 'dense',\n",
       " 'trainable': True,\n",
       " 'batch_input_shape': (None, 784),\n",
       " 'dtype': 'float32',\n",
       " 'units': 256,\n",
       " 'activation': 'relu',\n",
       " 'use_bias': True,\n",
       " 'kernel_initializer': {'class_name': 'GlorotUniform',\n",
       "  'config': {'seed': None}},\n",
       " 'bias_initializer': {'class_name': 'Zeros', 'config': {}},\n",
       " 'kernel_regularizer': None,\n",
       " 'bias_regularizer': None,\n",
       " 'activity_regularizer': None,\n",
       " 'kernel_constraint': None,\n",
       " 'bias_constraint': None}"
      ]
     },
     "execution_count": 20,
     "metadata": {},
     "output_type": "execute_result"
    }
   ],
   "source": [
    "# display configuration of first layer\n",
    "\n",
    "model.layers[0].get_config()"
   ]
  },
  {
   "cell_type": "code",
   "execution_count": 21,
   "id": "broke-devon",
   "metadata": {},
   "outputs": [
    {
     "data": {
      "text/plain": [
       "{'name': 'dense_1',\n",
       " 'trainable': True,\n",
       " 'dtype': 'float32',\n",
       " 'units': 10,\n",
       " 'activation': 'softmax',\n",
       " 'use_bias': True,\n",
       " 'kernel_initializer': {'class_name': 'GlorotUniform',\n",
       "  'config': {'seed': None}},\n",
       " 'bias_initializer': {'class_name': 'Zeros', 'config': {}},\n",
       " 'kernel_regularizer': None,\n",
       " 'bias_regularizer': None,\n",
       " 'activity_regularizer': None,\n",
       " 'kernel_constraint': None,\n",
       " 'bias_constraint': None}"
      ]
     },
     "execution_count": 21,
     "metadata": {},
     "output_type": "execute_result"
    }
   ],
   "source": [
    "model.layers[1].get_config()"
   ]
  },
  {
   "cell_type": "code",
   "execution_count": null,
   "id": "impaired-librarian",
   "metadata": {},
   "outputs": [],
   "source": []
  }
 ],
 "metadata": {
  "kernelspec": {
   "display_name": "Python 3",
   "language": "python",
   "name": "python3"
  },
  "language_info": {
   "codemirror_mode": {
    "name": "ipython",
    "version": 3
   },
   "file_extension": ".py",
   "mimetype": "text/x-python",
   "name": "python",
   "nbconvert_exporter": "python",
   "pygments_lexer": "ipython3",
   "version": "3.8.5"
  }
 },
 "nbformat": 4,
 "nbformat_minor": 5
}
