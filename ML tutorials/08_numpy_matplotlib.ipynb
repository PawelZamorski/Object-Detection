{
 "cells": [
  {
   "cell_type": "markdown",
   "id": "alert-minutes",
   "metadata": {},
   "source": [
    "# numpy library\n",
    "\n",
    "Numpy provides a multidimensional array object. The core of the NumPy package, is the <strong>ndarray</strong> object. This encapsulates n-dimensional arrays of <strong>homogeneous data types.</strong>\n",
    "\n",
    "Features:\n",
    "- The elements in a NumPy array are all required to be of the same data type.\n",
    "- It has many methods that operates on ndarray (mathematical, logical, shape manipulation, sorting, selecting).\n",
    "- Fast operations.\n",
    "- Used in many Python packages.\n",
    "\n",
    "Dimensions in NumPy are called <strong>axes</strong>.\n",
    "\n",
    "The important attributes of an ndarray object are:\n",
    "- ndarray.<strong>ndim</strong> - the number of axes (dimensions) of the array.\n",
    "- ndarray.<strong>shape</strong> - the dimensions of the array. This is a tuple of integers indicating the size of the array in each dimension. For a matrix with n rows and m columns, shape will be (n,m).\n",
    "- ndarray.<strong>size</strong> - the total number of elements of the array. This is equal to the product of the elements of shape.\n",
    "- ndarray.<strong>dtype</strong> - an object describing the type of the elements in the array. Standard Python types may be used. Additionally NumPy provides types of its own: numpy.int32, numpy.int16, and numpy.float64.\n",
    "\n",
    "The common operation used in Machine Learning is shape manipulation:\n",
    "- numpy.<strong>reshape</strong>(array, newshape, order='C') https://numpy.org/doc/stable/reference/generated/numpy.reshape.html\n",
    "- numpy.ndarray.<strong>flatten</strong>(order='C') https://numpy.org/doc/stable/reference/generated/numpy.ndarray.flatten.html\n",
    "- slicing - taking elements from one given index to another given index. We pass slice instead of index like this: [start:end]\n"
   ]
  },
  {
   "cell_type": "code",
   "execution_count": 1,
   "id": "related-challenge",
   "metadata": {},
   "outputs": [],
   "source": [
    "import numpy as np"
   ]
  },
  {
   "cell_type": "code",
   "execution_count": 2,
   "id": "sealed-diameter",
   "metadata": {},
   "outputs": [
    {
     "name": "stdout",
     "output_type": "stream",
     "text": [
      "[]\n",
      "dtype:  float64\n",
      "shape:  (0,)\n",
      "size:  0\n",
      "number of axis/dimensions:  1\n",
      "-----------------\n",
      "[1 2 3]\n",
      "dtype:  int32\n",
      "shape:  (3,)\n",
      "size:  3\n",
      "number of axis/dimensions:  1\n",
      "------------------\n",
      "[[1. 2. 3.]\n",
      " [1. 2. 3.]]\n",
      "dtype:  float32\n",
      "shape:  (2, 3)\n",
      "size:  6\n",
      "number of axis/dimensions:  2\n"
     ]
    }
   ],
   "source": [
    "# create empty ndarray\n",
    "arr = np.array([]) # it must take argument\n",
    "print(arr)\n",
    "print('dtype: ', arr.dtype) # by default dtype is float64\n",
    "print('shape: ', arr.shape)\n",
    "print('size: ', arr.size)\n",
    "print('number of axis/dimensions: ', arr.ndim)\n",
    "print('-----------------')\n",
    "arr = np.array([1, 2, 3])\n",
    "print(arr)\n",
    "print('dtype: ', arr.dtype) # dtype is deduced from the type of the elements in the sequences\n",
    "print('shape: ', arr.shape)\n",
    "print('size: ', arr.size)\n",
    "print('number of axis/dimensions: ', arr.ndim)\n",
    "print('------------------')\n",
    "arr = np.array([[1, 2, 3], [1, 2, 3]], dtype=np.float32) # specify dtype\n",
    "print(arr)\n",
    "print('dtype: ', arr.dtype)\n",
    "print('shape: ', arr.shape)\n",
    "print('size: ', arr.size)\n",
    "print('number of axis/dimensions: ', arr.ndim)"
   ]
  },
  {
   "cell_type": "code",
   "execution_count": 3,
   "id": "dried-handle",
   "metadata": {},
   "outputs": [
    {
     "name": "stdout",
     "output_type": "stream",
     "text": [
      "[]\n",
      "[1.]\n",
      "[5.]\n"
     ]
    }
   ],
   "source": [
    "# append vs put\n",
    "arr = np.array([])\n",
    "new_arr = np.append(arr, 1) # returns new array, takes arr as argument\n",
    "print(arr)\n",
    "print(new_arr)\n",
    "\n",
    "np.put(new_arr, 0, 5) # replaces specified elements of an array with given values\n",
    "print(new_arr)"
   ]
  },
  {
   "cell_type": "markdown",
   "id": "ethical-edwards",
   "metadata": {},
   "source": [
    "### Slicing"
   ]
  },
  {
   "cell_type": "code",
   "execution_count": 4,
   "id": "black-valuation",
   "metadata": {},
   "outputs": [
    {
     "name": "stdout",
     "output_type": "stream",
     "text": [
      "[0 1 2 3 4 5 6 7 8 9]\n",
      "----------------\n",
      "[2 3]\n"
     ]
    }
   ],
   "source": [
    "myarr = np.array([0,1,2,3,4,5,6,7,8,9])\n",
    "print(myarr)\n",
    "print('----------------')\n",
    "arr_slice = myarr[2:4]\n",
    "print(arr_slice)"
   ]
  },
  {
   "cell_type": "code",
   "execution_count": 5,
   "id": "laughing-sarah",
   "metadata": {},
   "outputs": [
    {
     "name": "stdout",
     "output_type": "stream",
     "text": [
      "[[ 1  2  3]\n",
      " [ 4  5  6]\n",
      " [ 7  8  9]\n",
      " [10 11 12]]\n",
      "----------------\n",
      "[[3]\n",
      " [6]]\n"
     ]
    }
   ],
   "source": [
    "myarr = np.array([[1,2,3], [4,5,6],[7,8,9], [10,11,12]], dtype=np.int16)\n",
    "print(myarr)\n",
    "print('----------------')\n",
    "\n",
    "# slicing 2d array\n",
    "# a comma is used to separate the index for each dimension\n",
    "arr_slice = myarr[0:2, 2:3] # [row_start:row_end, col_start:col_end]\n",
    "print(arr_slice)"
   ]
  },
  {
   "cell_type": "markdown",
   "id": "integrated-fight",
   "metadata": {},
   "source": [
    "### Reshape"
   ]
  },
  {
   "cell_type": "code",
   "execution_count": 6,
   "id": "marked-marks",
   "metadata": {},
   "outputs": [
    {
     "data": {
      "text/plain": [
       "array([[ 1,  2,  3],\n",
       "       [ 4,  5,  6],\n",
       "       [ 7,  8,  9],\n",
       "       [10, 11, 12]], dtype=int16)"
      ]
     },
     "execution_count": 6,
     "metadata": {},
     "output_type": "execute_result"
    }
   ],
   "source": [
    "myarr = np.array([[1,2,3], [4,5,6],[7,8,9], [10,11,12]], dtype=np.int16)\n",
    "myarr"
   ]
  },
  {
   "cell_type": "code",
   "execution_count": 7,
   "id": "listed-bacon",
   "metadata": {},
   "outputs": [
    {
     "data": {
      "text/plain": [
       "(4, 3)"
      ]
     },
     "execution_count": 7,
     "metadata": {},
     "output_type": "execute_result"
    }
   ],
   "source": [
    "myarr.shape"
   ]
  },
  {
   "cell_type": "code",
   "execution_count": 8,
   "id": "packed-appreciation",
   "metadata": {},
   "outputs": [
    {
     "name": "stdout",
     "output_type": "stream",
     "text": [
      "numpy.size:  12\n",
      "numpy.shape:  (4, 3)\n",
      "Python len() (outer array):  4\n",
      "Python len() (inner array):  3\n"
     ]
    }
   ],
   "source": [
    "# numpy.size vs numpy.shape vs Python len() method\n",
    "\n",
    "print('numpy.size: ', myarr.size)\n",
    "print('numpy.shape: ', myarr.shape)\n",
    "print('Python len() (outer array): ', len(myarr))\n",
    "print('Python len() (inner array): ', len(myarr[0]))"
   ]
  },
  {
   "cell_type": "code",
   "execution_count": 9,
   "id": "surprised-universal",
   "metadata": {},
   "outputs": [
    {
     "data": {
      "text/plain": [
       "array([[[ 1],\n",
       "        [ 2],\n",
       "        [ 3]],\n",
       "\n",
       "       [[ 4],\n",
       "        [ 5],\n",
       "        [ 6]],\n",
       "\n",
       "       [[ 7],\n",
       "        [ 8],\n",
       "        [ 9]],\n",
       "\n",
       "       [[10],\n",
       "        [11],\n",
       "        [12]]], dtype=int16)"
      ]
     },
     "execution_count": 9,
     "metadata": {},
     "output_type": "execute_result"
    }
   ],
   "source": [
    "myarr = np.reshape(myarr, (4,3,1)) # returns reshaped new array, 3 dimentional\n",
    "myarr"
   ]
  },
  {
   "cell_type": "code",
   "execution_count": 10,
   "id": "specified-frederick",
   "metadata": {},
   "outputs": [
    {
     "data": {
      "text/plain": [
       "(4, 3, 1)"
      ]
     },
     "execution_count": 10,
     "metadata": {},
     "output_type": "execute_result"
    }
   ],
   "source": [
    "myarr.shape"
   ]
  },
  {
   "cell_type": "code",
   "execution_count": 11,
   "id": "composed-diamond",
   "metadata": {},
   "outputs": [
    {
     "name": "stdout",
     "output_type": "stream",
     "text": [
      "shape:  (12,)\n",
      "[ 1  2  3  4  5  6  7  8  9 10 11 12]\n",
      "shape:  (12,)\n",
      "[ 1  2  3  4  5  6  7  8  9 10 11 12]\n"
     ]
    }
   ],
   "source": [
    "# flatten array -> reshape to 1 dimentional\n",
    "\n",
    "myarr_reshape = np.reshape(myarr, (12)) # returns new flatten array; this method (function) belongs to numpy package\n",
    "# the new correct shape must be calculated using reshape method. \n",
    "# in this case it is equal to size=12 or using shape (4,3,1) it is 4x3x1 = 12, \n",
    "\n",
    "# ndarray object has helpful method to flatten array\n",
    "myarr_flatten = myarr.flatten() # returns new array; this method belongs to ndarray object\n",
    "\n",
    "print('shape: ', myarr_reshape.shape)\n",
    "print(myarr_reshape)\n",
    "\n",
    "print('shape: ', myarr_flatten.shape)\n",
    "print(myarr_flatten)"
   ]
  },
  {
   "cell_type": "code",
   "execution_count": 12,
   "id": "academic-decline",
   "metadata": {},
   "outputs": [
    {
     "data": {
      "text/plain": [
       "array([ 1,  2,  3,  4,  5,  6,  7,  8,  9, 10, 11, 12], dtype=int16)"
      ]
     },
     "execution_count": 12,
     "metadata": {},
     "output_type": "execute_result"
    }
   ],
   "source": [
    "myarr = myarr.flatten()\n",
    "myarr"
   ]
  },
  {
   "cell_type": "code",
   "execution_count": 13,
   "id": "excellent-teach",
   "metadata": {},
   "outputs": [
    {
     "data": {
      "text/plain": [
       "array([[ 1,  2,  3,  4],\n",
       "       [ 5,  6,  7,  8],\n",
       "       [ 9, 10, 11, 12]], dtype=int16)"
      ]
     },
     "execution_count": 13,
     "metadata": {},
     "output_type": "execute_result"
    }
   ],
   "source": [
    "img_grayscale = np.reshape(myarr, (3, 4)) # it may represent a grayscale image of size 3x4 pixels\n",
    "img_grayscale"
   ]
  },
  {
   "cell_type": "code",
   "execution_count": 14,
   "id": "extreme-defeat",
   "metadata": {},
   "outputs": [
    {
     "data": {
      "text/plain": [
       "array([[[ 1,  2,  3],\n",
       "        [ 4,  5,  6]],\n",
       "\n",
       "       [[ 7,  8,  9],\n",
       "        [10, 11, 12]]], dtype=int16)"
      ]
     },
     "execution_count": 14,
     "metadata": {},
     "output_type": "execute_result"
    }
   ],
   "source": [
    "img_RGB = np.reshape(myarr, (2, 2, 3)) # it may represent a RGB image of size 2x2 pixels\n",
    "img_RGB"
   ]
  },
  {
   "cell_type": "code",
   "execution_count": 15,
   "id": "continuous-transcription",
   "metadata": {},
   "outputs": [
    {
     "name": "stdout",
     "output_type": "stream",
     "text": [
      "(2, 3, 4)\n"
     ]
    },
    {
     "data": {
      "text/plain": [
       "array([[[ 1,  2,  3,  4],\n",
       "        [ 5,  6,  7,  8],\n",
       "        [ 9, 10, 11, 12]],\n",
       "\n",
       "       [[ 1,  2,  3,  4],\n",
       "        [ 5,  6,  7,  8],\n",
       "        [ 9, 10, 11, 12]]], dtype=int16)"
      ]
     },
     "execution_count": 15,
     "metadata": {},
     "output_type": "execute_result"
    }
   ],
   "source": [
    "# Example of the shape of a grayscale image dataset. In NumPy all images must have the same shape\n",
    "\n",
    "# just creating a dataset \n",
    "img_grayscale_2 = np.copy(img_grayscale)\n",
    "img_dataset = np.array([img_grayscale, img_grayscale_2]) \n",
    "\n",
    "print(img_dataset.shape) # shape of grayscale img dataset\n",
    "img_dataset\n",
    "\n",
    "# shape is (2 ,3, 4), where 2 is the number of images of size 3x4 pixels"
   ]
  },
  {
   "cell_type": "code",
   "execution_count": null,
   "id": "false-tender",
   "metadata": {},
   "outputs": [],
   "source": []
  },
  {
   "cell_type": "markdown",
   "id": "included-brooks",
   "metadata": {},
   "source": [
    "# matplotlib\n",
    "\n",
    "Begginer guide: https://matplotlib.org/tutorials/introductory/usage.html#sphx-glr-tutorials-introductory-usage-py\n",
    "Pyplot function overview: https://matplotlib.org/api/pyplot_summary.html\n",
    "\n",
    "Everything in matplotlib is organized in a hierarchy. There is figure, axes are added to the figure, other elements (lines, dots, text, ect.) are added to the axes.\n",
    "\n",
    "There is always a <strong>\"current\" figure and axes</strong>, and elements are added to the curren axes in the current figure. A figure can have additional elements like a title ('suptitle'), a background color. The size of a figure can be specify in the figure constructor.\n",
    "\n",
    "- <strong>Figure</strong> - the whole figure. The figure keeps track of all the child Axes. A figure can contain any number of Axes, but will typically have at least one. May have no axes.\n",
    "- <strong>Axes</strong> - This is what you think of as 'a plot', it is the region of the image with the data space. A given figure can contain many Axes, but a given Axes object can only be in one Figure. The Axes contains two (or three in the case of 3D) Axis objects (be aware of the difference between Axes and Axis). Each Axes has a title (set via set_title()), an x-label (set via set_xlabel()), and a y-label set via set_ylabel()).\n",
    "- <strong>Axis</strong> - These are the number-line-like objects.\n",
    "\n",
    "matplotlib.pyplot.show() method displays figure and its all components."
   ]
  },
  {
   "cell_type": "code",
   "execution_count": 16,
   "id": "cathedral-mileage",
   "metadata": {},
   "outputs": [],
   "source": [
    "from matplotlib import pyplot as plt"
   ]
  },
  {
   "cell_type": "code",
   "execution_count": 17,
   "id": "color-islam",
   "metadata": {},
   "outputs": [
    {
     "data": {
      "text/plain": [
       "<Figure size 432x288 with 0 Axes>"
      ]
     },
     "metadata": {},
     "output_type": "display_data"
    }
   ],
   "source": [
    "# data\n",
    "x = [1, 2, 3, 4]\n",
    "y_1 = [10, 20, 30, 40]\n",
    "y_2 = [5, 10, 15, 20]\n",
    "\n",
    "fig = plt.figure()  # an empty figure with no Axes. Keep reference to figure to change figure attributes: title, color, legend, ect.\n",
    "fig.suptitle('The figure title') # Add a title to a figure\n",
    "\n",
    "plt.show() # nothing to show"
   ]
  },
  {
   "cell_type": "code",
   "execution_count": 18,
   "id": "reasonable-entrance",
   "metadata": {},
   "outputs": [
    {
     "data": {
      "image/png": "[encoded data removed]",
      "text/plain": [
       "<Figure size 432x288 with 1 Axes>"
      ]
     },
     "metadata": {
      "needs_background": "light"
     },
     "output_type": "display_data"
    }
   ],
   "source": [
    "ax = plt.subplot() # Create an Axes. Keep reference to axes to change axes attributes: title, size, ect.\n",
    "ax.set_title('The Axes 1 title')\n",
    "ax.set_xlabel('x axis label')\n",
    "ax.set_ylabel('y axis lable')\n",
    "# plot axes 1\n",
    "ax.plot(x, y_1, label='line 1', color='green', marker='o', linestyle='dashed', linewidth=2, markersize=10, markerfacecolor='blue')\n",
    "ax.plot(x, y_2, label='line 2', color='red', marker='o', linestyle='dashed', linewidth=2, markersize=10, markerfacecolor='green')\n",
    "ax.legend()\n",
    "# Axes is automatically added to the current figure. It has default attributes.\n",
    "plt.show()"
   ]
  },
  {
   "cell_type": "code",
   "execution_count": null,
   "id": "adverse-desperate",
   "metadata": {},
   "outputs": [],
   "source": []
  },
  {
   "cell_type": "markdown",
   "id": "prompt-ticket",
   "metadata": {},
   "source": [
    "## There are many ways of creating a plot using matplotlib.\n",
    "\n",
    "Plot may be very simple or very customizable."
   ]
  },
  {
   "cell_type": "code",
   "execution_count": 19,
   "id": "dirty-briefing",
   "metadata": {},
   "outputs": [
    {
     "data": {
      "image/png": "[encoded data removed]",
      "text/plain": [
       "<Figure size 432x288 with 1 Axes>"
      ]
     },
     "metadata": {
      "needs_background": "light"
     },
     "output_type": "display_data"
    }
   ],
   "source": [
    "# a simple plot. Use plot() method\n",
    "plt.plot(x, y_1)\n",
    "\n",
    "plt.show()"
   ]
  },
  {
   "cell_type": "code",
   "execution_count": 20,
   "id": "weekly-forestry",
   "metadata": {},
   "outputs": [
    {
     "data": {
      "image/png": "[encoded data removed]",
      "text/plain": [
       "<Figure size 432x288 with 1 Axes>"
      ]
     },
     "metadata": {
      "needs_background": "light"
     },
     "output_type": "display_data"
    }
   ],
   "source": [
    "# a simple plot with description\n",
    "\n",
    "plt.plot(x, y_1, label='linear')\n",
    "plt.plot(x, y_2, label='quadratic') # plot other data in the same axes\n",
    "plt.xlabel('x label')\n",
    "plt.ylabel('y label')\n",
    "plt.title(\"Simple Plot\")\n",
    "plt.legend()\n",
    "\n",
    "plt.show()"
   ]
  },
  {
   "cell_type": "markdown",
   "id": "present-praise",
   "metadata": {},
   "source": [
    "# Example with multiple axes"
   ]
  },
  {
   "cell_type": "code",
   "execution_count": 21,
   "id": "seeing-ticket",
   "metadata": {},
   "outputs": [
    {
     "data": {
      "image/png": "[encoded data removed]",
      "text/plain": [
       "<Figure size 432x288 with 6 Axes>"
      ]
     },
     "metadata": {
      "needs_background": "light"
     },
     "output_type": "display_data"
    }
   ],
   "source": [
    "# matplotlib.pyplot.subplots(nrows=1, ncols=1, sharex=False, sharey=False, squeeze=True, subplot_kw=None, gridspec_kw=None, **fig_kw)[source]\n",
    "# returns a single Axes object or an array of Axes objects\n",
    "\n",
    "# subplot(2, 3) nrows=2, ncols=3. It gives 6 axes\n",
    "# keep references to the figure and axes\n",
    "fig, ([[ax_1, xa_2, ax_3], [ax_4, xa_5, ax_6]]) = plt.subplots(2, 3, sharex=True, sharey=True)\n",
    "\n",
    "# add data to first axes\n",
    "ax_1.set_title('The Axes 1 title')\n",
    "ax_1.set_xlabel('x axis label')\n",
    "ax_1.set_ylabel('y axis lable')\n",
    "ax_1.plot(x, y_1, label='line 1', color='green', marker='o', linestyle='dashed', linewidth=2, markersize=10, markerfacecolor='blue')\n",
    "\n",
    "plt.show()"
   ]
  },
  {
   "cell_type": "markdown",
   "id": "union-jenny",
   "metadata": {},
   "source": [
    "# Plot histograms, boxes, ect.\n",
    "\n",
    "Again, many ways to plot histograms, boxes, ect."
   ]
  },
  {
   "cell_type": "code",
   "execution_count": 22,
   "id": "upset-ridge",
   "metadata": {},
   "outputs": [
    {
     "data": {
      "image/png": "[encoded data removed]",
      "text/plain": [
       "<Figure size 432x288 with 1 Axes>"
      ]
     },
     "metadata": {
      "needs_background": "light"
     },
     "output_type": "display_data"
    }
   ],
   "source": [
    "# simple histogram\n",
    "\n",
    "# data\n",
    "age_arr = [2,5,70,40,30,45,50,45,43,40,44, 60,7,13,57,18,90,77,32,21,20,40]\n",
    "\n",
    "plt.hist(age_arr) \n",
    "\n",
    "plt.title('My Histogram')\n",
    "plt.xlabel('age')\n",
    "plt.ylabel('number of people')\n",
    "\n",
    "plt.show()"
   ]
  },
  {
   "cell_type": "code",
   "execution_count": 23,
   "id": "aggressive-gnome",
   "metadata": {},
   "outputs": [
    {
     "data": {
      "image/png": "[encoded data removed]",
      "text/plain": [
       "<Figure size 432x288 with 1 Axes>"
      ]
     },
     "metadata": {
      "needs_background": "light"
     },
     "output_type": "display_data"
    }
   ],
   "source": [
    "# customized histogram\n",
    "\n",
    "# data\n",
    "age_arr = [2,5,70,40,30,45,50,45,43,40,44, 60,7,13,57,18,90,77,32,21,20,40]\n",
    "\n",
    "# setting the ranges and no. of intervals \n",
    "# a range could be set by defining a tuple containing min and max values.\n",
    "my_range=(0, 100)\n",
    "\n",
    "# to “bin” the range of values means to divide the entire range of values into series of intervals\n",
    "# and then count how many values fall into each interval.\n",
    "# bins = 10 => there are a total of 100/10 = 10 intervals\n",
    "bins = 10\n",
    "\n",
    "# hist(x, bins=None, range=None, density=None, weights=None, cumulative=False, bottom=None, histtype='bar', align='mid', \n",
    "# orientation='vertical', rwidth=None, log=False, color=None, label=None, stacked=False, normed=None, *, data=None, **kwargs)\n",
    "# where 'x' is array or sequence of (n,) arrays\n",
    "\n",
    "plt.hist(age_arr, bins=bins, range=my_range, histtype='bar', rwidth=0.95, color=['g'], label='age')\n",
    "# alpha=0.5 - it is for multiple histograms\n",
    "plt.title('My Histogram')\n",
    "plt.xlabel('age')\n",
    "plt.ylabel('number of people')\n",
    "plt.show()"
   ]
  },
  {
   "cell_type": "markdown",
   "id": "amended-capital",
   "metadata": {},
   "source": [
    "# Image processing"
   ]
  },
  {
   "cell_type": "code",
   "execution_count": 24,
   "id": "entitled-celebrity",
   "metadata": {},
   "outputs": [
    {
     "name": "stdout",
     "output_type": "stream",
     "text": [
      "<class 'numpy.ndarray'>\n",
      "(16, 16)\n"
     ]
    }
   ],
   "source": [
    "img = np.array(\n",
    "      [[255, 255, 255, 255, 255, 255, 255, 255, 255, 255, 255, 255, 255, 255, 255, 255],\n",
    "       [255, 255, 255, 255, 255, 255, 221, 233, 255, 251, 252, 233, 241, 255, 255, 255],\n",
    "       [255, 255, 255, 255, 255, 255,  19,  54, 201, 120, 122,  42,  92, 238, 255, 255],\n",
    "       [255, 255, 255, 255, 255, 167,  12,   0,   7,   0,   0,  11,  74, 217, 255, 255],\n",
    "       [255, 255, 255, 255, 240,  77,   0,  31,  80,  77, 148, 187, 223, 251, 255, 255],\n",
    "       [255, 255, 255, 255, 180,  28,   0, 184, 242, 232, 255, 255, 255, 255, 255, 255],\n",
    "       [255, 255, 255, 243,  85,   0,   0,  80, 255, 255, 255, 255, 255, 255, 255, 255],\n",
    "       [255, 255, 255, 241,  65,   0,   0,   0,  27, 199, 255, 255, 255, 255, 255, 255],\n",
    "       [255, 255, 255, 245, 202, 193, 195, 254,   0,   1, 191, 255, 255, 255, 255, 255],\n",
    "       [255, 255, 255, 255, 255, 255, 255, 255,   0,   9, 159, 255, 255, 255, 255, 255],\n",
    "       [255, 255, 244, 243, 255, 255, 255, 255,   0,   2, 135, 255, 255, 255, 255, 255],\n",
    "       [255, 254, 195, 143, 188, 222, 202, 193,   0,  16, 206, 255, 255, 255, 255, 255],\n",
    "       [255, 255, 223, 100,  14,  55,  39,  12,   0,  72, 255, 255, 255, 255, 255, 255],\n",
    "       [255, 255, 255, 207,  86,   0,   0,   0,  43, 232, 255, 255, 255, 255, 255, 255],\n",
    "       [255, 255, 255, 255, 244, 221, 215, 213, 231, 255, 255, 255, 255, 255, 255, 255],\n",
    "       [255, 255, 255, 255, 255, 255, 255, 255, 255, 255, 255, 255, 255, 255, 255, 255]])\n",
    "\n",
    "print(type(img))\n",
    "print(img.shape)"
   ]
  },
  {
   "cell_type": "code",
   "execution_count": 25,
   "id": "legitimate-monster",
   "metadata": {},
   "outputs": [
    {
     "data": {
      "text/plain": [
       "<matplotlib.image.AxesImage at 0x1f6c8580580>"
      ]
     },
     "execution_count": 25,
     "metadata": {},
     "output_type": "execute_result"
    },
    {
     "data": {
      "image/png": "[encoded data removed]",
      "text/plain": [
       "<Figure size 432x432 with 1 Axes>"
      ]
     },
     "metadata": {
      "needs_background": "light"
     },
     "output_type": "display_data"
    }
   ],
   "source": [
    "# plot image\n",
    "\n",
    "plt.figure(figsize=(6, 6))\n",
    "\n",
    "plt.imshow(img, cmap='gray')"
   ]
  },
  {
   "cell_type": "code",
   "execution_count": 26,
   "id": "leading-marriage",
   "metadata": {},
   "outputs": [],
   "source": [
    "# filter\n",
    "\n",
    "f = [[1, 1, 1],\n",
    "     [0, 0, 0],\n",
    "     [-1, -1, -1]]\n",
    "\n",
    "# convert filter to ndarray\n",
    "conv_filter = np.array(f)"
   ]
  },
  {
   "cell_type": "code",
   "execution_count": 27,
   "id": "authorized-property",
   "metadata": {},
   "outputs": [
    {
     "name": "stdout",
     "output_type": "stream",
     "text": [
      "(196,)\n",
      "[   0.    0.    0.    0.  236.  437.  491.  390.  322.  481.  509.  393.\n",
      "  180.   17.    0.    0.    0.   88.  297.  530.  690.  732.  751.  725.\n",
      "  641.  427.  205.   38.    0.    0.   15.  193.  212.  220.  163.  187.\n",
      "  138. -128. -302. -289. -144.  -13.    0.    0.   75.  214.  226.  -33.\n",
      " -407. -651. -722. -731. -680. -463. -219.  -38.    0.   12.  167.  244.\n",
      "  232.   28. -224. -402. -460. -353. -207. -104.  -36.   -4.    0.   14.\n",
      "  129.  157.  143.  212.  399.  432.  248.   33.    0.    0.    0.    0.\n",
      "    0.   -2. -119. -312. -505. -562. -114.  335.  573.  318.   64.    0.\n",
      "    0.    0.    0.  -14. -204. -459. -700. -765. -483.  -38.  313.  286.\n",
      "   96.    0.    0.    0.   11.   13.  -40. -113. -175. -123.  -61.   -2.\n",
      "   55.   55.   56.    0.    0.    0.   61.  173.  239.  212.  153.  148.\n",
      "  115.   55.  -54.  -54.  -47.    0.    0.    0.   21.  164.  405.  584.\n",
      "  657.  659.  459.  173. -190. -190. -120.    0.    0.    0.  -61. -125.\n",
      "  -22.  260.  526.  617.  352.  -66. -308. -265.  -49.    0.    0.    0.\n",
      "  -32. -187. -417. -551. -572. -543. -608. -615. -414. -183.    0.    0.\n",
      "    0.    0.    0.  -48. -217. -472. -679. -765. -722. -490. -235.  -23.\n",
      "    0.    0.    0.    0.]\n"
     ]
    }
   ],
   "source": [
    "img_filtered = np.array([])\n",
    "\n",
    "for i in np.arange(14):\n",
    "    for j in np.arange(14):\n",
    "        # slice array\n",
    "        temp = img[i:i+3, j:j+3]\n",
    "        # multipley by filter\n",
    "        temp = np.multiply(temp, conv_filter)\n",
    "        # sum items\n",
    "        temp = np.sum(temp)\n",
    "        # append\n",
    "        img_filtered = np.append(img_filtered, temp)\n",
    "        \n",
    "print(img_filtered.shape)\n",
    "print(img_filtered)\n",
    "\n",
    "# data need to be scaled to range from 0 to 255"
   ]
  },
  {
   "cell_type": "code",
   "execution_count": 28,
   "id": "complex-pound",
   "metadata": {},
   "outputs": [
    {
     "name": "stdout",
     "output_type": "stream",
     "text": [
      "[128 128 128 128 168 202 211 194 182 209 214 194 158 131 128 128 128 143\n",
      " 178 217 244 251 255 250 236 200 163 135 128 128 131 161 164 165 156 160\n",
      " 151 107  77  80 104 126 128 128 141 164 166 123  60  19   7   5  14  50\n",
      "  91 122 128 130 156 169 167 133  90  61  51  69  93 111 122 128 128 131\n",
      " 150 155 152 164 195 201 170 134 128 128 128 128 128 128 108  76  43  34\n",
      " 109 185 225 182 139 128 128 128 128 126  94  51  10   0  47 122 181 176\n",
      " 144 128 128 128 130 130 121 109  99 107 118 128 137 137 138 128 128 128\n",
      " 138 157 168 164 154 153 148 137 119 119 120 128 128 128 132 156 196 226\n",
      " 239 239 205 157  96  96 108 128 128 128 118 107 124 172 217 232 187 117\n",
      "  76  84 120 128 128 128 123  97  58  35  32  37  26  25  59  97 128 128\n",
      " 128 128 128 120  92  49  14   0   7  46  89 124 128 128 128 128]\n"
     ]
    }
   ],
   "source": [
    "# scale data, range 0 to 255\n",
    "from sklearn.preprocessing import minmax_scale\n",
    "\n",
    "img_filtered = minmax_scale(img_filtered, feature_range=(0, 255), axis=0, copy=True)\n",
    "\n",
    "# change type to int\n",
    "img_filtered = img_filtered.astype(int)\n",
    "\n",
    "print(img_filtered)"
   ]
  },
  {
   "cell_type": "code",
   "execution_count": 29,
   "id": "successful-remedy",
   "metadata": {},
   "outputs": [
    {
     "name": "stdout",
     "output_type": "stream",
     "text": [
      "[[128 128 128 128 168 202 211 194 182 209 214 194 158 131]\n",
      " [128 128 128 143 178 217 244 251 255 250 236 200 163 135]\n",
      " [128 128 131 161 164 165 156 160 151 107  77  80 104 126]\n",
      " [128 128 141 164 166 123  60  19   7   5  14  50  91 122]\n",
      " [128 130 156 169 167 133  90  61  51  69  93 111 122 128]\n",
      " [128 131 150 155 152 164 195 201 170 134 128 128 128 128]\n",
      " [128 128 108  76  43  34 109 185 225 182 139 128 128 128]\n",
      " [128 126  94  51  10   0  47 122 181 176 144 128 128 128]\n",
      " [130 130 121 109  99 107 118 128 137 137 138 128 128 128]\n",
      " [138 157 168 164 154 153 148 137 119 119 120 128 128 128]\n",
      " [132 156 196 226 239 239 205 157  96  96 108 128 128 128]\n",
      " [118 107 124 172 217 232 187 117  76  84 120 128 128 128]\n",
      " [123  97  58  35  32  37  26  25  59  97 128 128 128 128]\n",
      " [128 120  92  49  14   0   7  46  89 124 128 128 128 128]]\n"
     ]
    }
   ],
   "source": [
    "# reshape. The size is reduced\n",
    "img_filtered = np.reshape(img_filtered, (14,14))\n",
    "print(img_filtered)"
   ]
  },
  {
   "cell_type": "code",
   "execution_count": 30,
   "id": "separate-nickel",
   "metadata": {},
   "outputs": [
    {
     "data": {
      "text/plain": [
       "<matplotlib.image.AxesImage at 0x1f6c971a1c0>"
      ]
     },
     "execution_count": 30,
     "metadata": {},
     "output_type": "execute_result"
    },
    {
     "data": {
      "image/png": "[encoded data removed]",
      "text/plain": [
       "<Figure size 432x432 with 1 Axes>"
      ]
     },
     "metadata": {
      "needs_background": "light"
     },
     "output_type": "display_data"
    }
   ],
   "source": [
    "plt.figure(figsize=(6, 6))\n",
    "\n",
    "plt.imshow(img_filtered, cmap='gray')"
   ]
  },
  {
   "cell_type": "code",
   "execution_count": null,
   "id": "russian-worship",
   "metadata": {},
   "outputs": [],
   "source": []
  }
 ],
 "metadata": {
  "kernelspec": {
   "display_name": "Python 3",
   "language": "python",
   "name": "python3"
  },
  "language_info": {
   "codemirror_mode": {
    "name": "ipython",
    "version": 3
   },
   "file_extension": ".py",
   "mimetype": "text/x-python",
   "name": "python",
   "nbconvert_exporter": "python",
   "pygments_lexer": "ipython3",
   "version": "3.8.5"
  }
 },
 "nbformat": 4,
 "nbformat_minor": 5
}
