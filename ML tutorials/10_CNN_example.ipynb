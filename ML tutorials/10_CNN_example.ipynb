{
 "cells": [
  {
   "cell_type": "code",
   "execution_count": 1,
   "id": "measured-duncan",
   "metadata": {},
   "outputs": [],
   "source": [
    "from keras.datasets import mnist\n",
    "\n",
    "from keras.models import Sequential\n",
    "from keras.layers import Dense, Activation, Dropout, Flatten\n",
    "from keras.layers import Convolution2D, MaxPool2D\n",
    "\n",
    "import matplotlib.pyplot as plt"
   ]
  },
  {
   "cell_type": "code",
   "execution_count": 2,
   "id": "fabulous-adaptation",
   "metadata": {},
   "outputs": [],
   "source": [
    "(x_train, y_train), (x_test, y_test) = mnist.load_data()"
   ]
  },
  {
   "cell_type": "code",
   "execution_count": 3,
   "id": "bigger-consolidation",
   "metadata": {},
   "outputs": [
    {
     "data": {
      "text/plain": [
       "<matplotlib.image.AxesImage at 0x2e2fbbbc1f0>"
      ]
     },
     "execution_count": 3,
     "metadata": {},
     "output_type": "execute_result"
    },
    {
     "data": {
      "image/png": "[encoded data removed]",
      "text/plain": [
       "<Figure size 432x288 with 1 Axes>"
      ]
     },
     "metadata": {
      "needs_background": "light"
     },
     "output_type": "display_data"
    }
   ],
   "source": [
    "plt.imshow(x_train[45], cmap='gray')"
   ]
  },
  {
   "cell_type": "code",
   "execution_count": 4,
   "id": "labeled-monroe",
   "metadata": {},
   "outputs": [
    {
     "name": "stdout",
     "output_type": "stream",
     "text": [
      "<class 'numpy.ndarray'>\n",
      "(28, 28)\n"
     ]
    }
   ],
   "source": [
    "# just displaying some info to see what's there\n",
    "\n",
    "print(type(x_train[45]))\n",
    "print(x_train[45].shape)"
   ]
  },
  {
   "cell_type": "code",
   "execution_count": 5,
   "id": "remarkable-friendship",
   "metadata": {},
   "outputs": [
    {
     "data": {
      "text/plain": [
       "(60000, 28, 28)"
      ]
     },
     "execution_count": 5,
     "metadata": {},
     "output_type": "execute_result"
    }
   ],
   "source": [
    "x_train.shape\n",
    "# 60000 images, 28x28 pixels"
   ]
  },
  {
   "cell_type": "code",
   "execution_count": 6,
   "id": "worth-zoning",
   "metadata": {},
   "outputs": [
    {
     "data": {
      "text/plain": [
       "(10000, 28, 28)"
      ]
     },
     "execution_count": 6,
     "metadata": {},
     "output_type": "execute_result"
    }
   ],
   "source": [
    "x_test.shape"
   ]
  },
  {
   "cell_type": "code",
   "execution_count": 7,
   "id": "liberal-ending",
   "metadata": {},
   "outputs": [],
   "source": [
    "model = Sequential()"
   ]
  },
  {
   "cell_type": "code",
   "execution_count": 8,
   "id": "accessory-melbourne",
   "metadata": {},
   "outputs": [],
   "source": [
    "# 32 - number of filters\n",
    "# 3 - size of filters (3x3)\n",
    "# input_shape=(28, 28, 1) - our images are 28x28 pixels.\n",
    "# All images must be the same size. \n",
    "# 1 in input_shape(28,28,1) means number of channels. Grayscale have 1 channel, RGB 3 channels, RGBa 4 channels\n",
    "\n",
    "model.add(Convolution2D(32, 3, activation='relu', input_shape=(28, 28, 1)))"
   ]
  },
  {
   "cell_type": "code",
   "execution_count": 9,
   "id": "pressed-compatibility",
   "metadata": {},
   "outputs": [
    {
     "data": {
      "text/plain": [
       "'channels_last'"
      ]
     },
     "execution_count": 9,
     "metadata": {},
     "output_type": "execute_result"
    }
   ],
   "source": [
    "# input_shape=(28, 28, 1) - if TensorFlow is as a backend, the number of channels is put as the last parameter\n",
    "# by default Keras uses TensorFlow.\n",
    "# But if Keras uses other backend, the number of channels may go as first parameter.\n",
    "# To make sure where to put the namber of channels use the following code\n",
    "\n",
    "from keras import backend\n",
    "backend.image_data_format()"
   ]
  },
  {
   "cell_type": "code",
   "execution_count": 10,
   "id": "furnished-sword",
   "metadata": {},
   "outputs": [
    {
     "data": {
      "text/plain": [
       "[<tensorflow.python.keras.layers.convolutional.Conv2D at 0x2e2fbcac730>]"
      ]
     },
     "execution_count": 10,
     "metadata": {},
     "output_type": "execute_result"
    }
   ],
   "source": [
    "# you can display info about layers in a model\n",
    "model.layers\n",
    "\n",
    "# one layer - convolutional"
   ]
  },
  {
   "cell_type": "code",
   "execution_count": 11,
   "id": "latest-genius",
   "metadata": {},
   "outputs": [
    {
     "data": {
      "text/plain": [
       "(None, 26, 26, 32)"
      ]
     },
     "execution_count": 11,
     "metadata": {},
     "output_type": "execute_result"
    }
   ],
   "source": [
    "# by applying 3x3 filter the output shape of image will change\n",
    "# it will 'shrink' by 1 at each side i.e., 28x28 => 26x26\n",
    "# Convolution2D class has paramater padding that takes either \"valid\" or \"same\". \n",
    "# 'valid' is default and it will 'shrink' shape\n",
    "# 'same' keeps the shape. It simply adds padding to the original shape with all valus 0, so after convolution the shape is the same as original\n",
    "# we can display the output shape\n",
    "\n",
    "model.output_shape"
   ]
  },
  {
   "cell_type": "code",
   "execution_count": 12,
   "id": "three-capability",
   "metadata": {},
   "outputs": [],
   "source": [
    "# MaxPooling layer\n",
    "model.add(MaxPool2D(pool_size=(2,2)))"
   ]
  },
  {
   "cell_type": "code",
   "execution_count": 13,
   "id": "played-kitchen",
   "metadata": {},
   "outputs": [
    {
     "data": {
      "text/plain": [
       "(None, 13, 13, 32)"
      ]
     },
     "execution_count": 13,
     "metadata": {},
     "output_type": "execute_result"
    }
   ],
   "source": [
    "model.output_shape"
   ]
  },
  {
   "cell_type": "code",
   "execution_count": 14,
   "id": "answering-cover",
   "metadata": {},
   "outputs": [],
   "source": [
    "# add on more convolutional layers\n",
    "\n",
    "model.add(Convolution2D(32, 3, activation='relu')) # no need to specify input size\n",
    "model.add(MaxPool2D(pool_size=(2,2)))\n",
    "model.add(Dropout(0.25)) # drop some data"
   ]
  },
  {
   "cell_type": "code",
   "execution_count": 15,
   "id": "expected-engineer",
   "metadata": {},
   "outputs": [],
   "source": [
    "# Dense function expect a flat input, 1 dimentional array\n",
    "# we add flatten layer to the model. It just flattens the input\n",
    "\n",
    "model.add(Flatten())"
   ]
  },
  {
   "cell_type": "code",
   "execution_count": 16,
   "id": "variable-pottery",
   "metadata": {},
   "outputs": [
    {
     "data": {
      "text/plain": [
       "(None, 800)"
      ]
     },
     "execution_count": 16,
     "metadata": {},
     "output_type": "execute_result"
    }
   ],
   "source": [
    "model.output_shape\n",
    "\n",
    "# 800 features, but more meaningful than using raw pixels. Features contain 'local features' - info about shape  "
   ]
  },
  {
   "cell_type": "code",
   "execution_count": 17,
   "id": "chronic-appointment",
   "metadata": {},
   "outputs": [],
   "source": [
    "# add Dense layer\n",
    "# 128 was choosen by me. It my be different number. Not too low and not too high\n",
    "model.add(Dense(128, activation='relu'))"
   ]
  },
  {
   "cell_type": "code",
   "execution_count": 18,
   "id": "statistical-appointment",
   "metadata": {},
   "outputs": [
    {
     "data": {
      "text/plain": [
       "(None, 128)"
      ]
     },
     "execution_count": 18,
     "metadata": {},
     "output_type": "execute_result"
    }
   ],
   "source": [
    "model.output_shape"
   ]
  },
  {
   "cell_type": "code",
   "execution_count": 19,
   "id": "dutch-interim",
   "metadata": {},
   "outputs": [],
   "source": [
    "# add output layer\n",
    "# there are 10 digits -> 10 classes. The output is 10\n",
    "\n",
    "model.add(Dense(10, activation='softmax'))"
   ]
  },
  {
   "cell_type": "code",
   "execution_count": 20,
   "id": "second-publicity",
   "metadata": {},
   "outputs": [
    {
     "data": {
      "text/plain": [
       "(None, 10)"
      ]
     },
     "execution_count": 20,
     "metadata": {},
     "output_type": "execute_result"
    }
   ],
   "source": [
    "model.output_shape"
   ]
  },
  {
   "cell_type": "code",
   "execution_count": 21,
   "id": "composite-genesis",
   "metadata": {},
   "outputs": [],
   "source": [
    "# compile model\n",
    "\n",
    "model.compile(loss='categorical_crossentropy', optimizer='adam', metrics=['accuracy'])"
   ]
  },
  {
   "cell_type": "code",
   "execution_count": 22,
   "id": "robust-refund",
   "metadata": {},
   "outputs": [
    {
     "name": "stdout",
     "output_type": "stream",
     "text": [
      "(60000, 28, 28)\n",
      "(28, 28)\n"
     ]
    }
   ],
   "source": [
    "# before training we have to reshape input data (shape of images)\n",
    "# the first layer of model (Convolution2D layer) is expected image data of shape (28,28,1)\n",
    "# but our data have shape (28,28)\n",
    "\n",
    "print(x_train.shape)\n",
    "# 60000 refers to the number of images\n",
    "\n",
    "# shape of single image, i.e. the first one in array:\n",
    "print(x_train[0].shape)\n",
    "\n",
    "# the shape of image is (28,28), but we need shape (28,28,1)\n",
    "# (28,28,1) is a 3D array i.e.\n",
    "# [[[0],[225], ..., [180]],[[34],[167], ..., [145]] ..., [[222],[54], ..., [68]]]\n",
    "# 28 pixels iwdth, 28 pixels height, 1 - grayscale\n",
    "\n",
    "# for RGB image the shape will be (28,28,3)\n",
    "# [[[0, 50, 255],[200, 78, 190], ..., [180, 67, 255]], ...]"
   ]
  },
  {
   "cell_type": "code",
   "execution_count": 23,
   "id": "ready-search",
   "metadata": {},
   "outputs": [
    {
     "name": "stdout",
     "output_type": "stream",
     "text": [
      "<class 'numpy.ndarray'>\n",
      "(28, 28, 1)\n"
     ]
    }
   ],
   "source": [
    "# numpy has method to reshape numpy array. And we have numpy array, so we can use this method\n",
    "print(type(x_train[0]))\n",
    "\n",
    "x_train = x_train.reshape(60000, 28, 28, 1)\n",
    "x_test = x_test.reshape(10000, 28, 28, 1)\n",
    "\n",
    "print(x_train[0].shape)"
   ]
  },
  {
   "cell_type": "code",
   "execution_count": 24,
   "id": "ongoing-poverty",
   "metadata": {},
   "outputs": [
    {
     "data": {
      "text/plain": [
       "array([5, 0, 4, ..., 5, 6, 8], dtype=uint8)"
      ]
     },
     "execution_count": 24,
     "metadata": {},
     "output_type": "execute_result"
    }
   ],
   "source": [
    "# convert target data to categorical\n",
    "\n",
    "y_train\n",
    "# target data is 1-dimentional array with a range of values from 0 to 9 (10 digits)\n",
    "# we need 2d array with true-false / 0, 1 values"
   ]
  },
  {
   "cell_type": "code",
   "execution_count": 25,
   "id": "altered-catch",
   "metadata": {},
   "outputs": [
    {
     "name": "stdout",
     "output_type": "stream",
     "text": [
      "[[0. 0. 0. 0. 0. 1. 0. 0. 0. 0.]]\n"
     ]
    }
   ],
   "source": [
    "# convert target data to categorical\n",
    "from keras.utils import to_categorical\n",
    "\n",
    "y_train = to_categorical(y_train)\n",
    "y_test = to_categorical(y_test)\n",
    "\n",
    "print(y_train[:1]) # display first row"
   ]
  },
  {
   "cell_type": "code",
   "execution_count": 26,
   "id": "destroyed-discretion",
   "metadata": {},
   "outputs": [
    {
     "name": "stdout",
     "output_type": "stream",
     "text": [
      "Epoch 1/10\n",
      "1875/1875 [==============================] - 42s 22ms/step - loss: 0.3600 - accuracy: 0.9242 - val_loss: 0.0726 - val_accuracy: 0.9782\n",
      "Epoch 2/10\n",
      "1875/1875 [==============================] - 38s 20ms/step - loss: 0.0997 - accuracy: 0.9698 - val_loss: 0.0471 - val_accuracy: 0.9847\n",
      "Epoch 3/10\n",
      "1875/1875 [==============================] - 40s 21ms/step - loss: 0.0768 - accuracy: 0.9761 - val_loss: 0.0537 - val_accuracy: 0.9839\n",
      "Epoch 4/10\n",
      "1875/1875 [==============================] - 39s 21ms/step - loss: 0.0674 - accuracy: 0.9794 - val_loss: 0.0461 - val_accuracy: 0.9852\n",
      "Epoch 5/10\n",
      "1875/1875 [==============================] - 40s 21ms/step - loss: 0.0576 - accuracy: 0.9826 - val_loss: 0.0396 - val_accuracy: 0.9875\n",
      "Epoch 6/10\n",
      "1875/1875 [==============================] - 39s 21ms/step - loss: 0.0492 - accuracy: 0.9850 - val_loss: 0.0421 - val_accuracy: 0.9871\n",
      "Epoch 7/10\n",
      "1875/1875 [==============================] - 41s 22ms/step - loss: 0.0454 - accuracy: 0.9864 - val_loss: 0.0406 - val_accuracy: 0.9881\n",
      "Epoch 8/10\n",
      "1875/1875 [==============================] - 39s 21ms/step - loss: 0.0423 - accuracy: 0.9871 - val_loss: 0.0428 - val_accuracy: 0.9878\n",
      "Epoch 9/10\n",
      "1875/1875 [==============================] - 41s 22ms/step - loss: 0.0391 - accuracy: 0.9886 - val_loss: 0.0396 - val_accuracy: 0.9890\n",
      "Epoch 10/10\n",
      "1875/1875 [==============================] - 40s 21ms/step - loss: 0.0370 - accuracy: 0.9884 - val_loss: 0.0556 - val_accuracy: 0.9855\n"
     ]
    }
   ],
   "source": [
    "# train model\n",
    "# keep the history in log\n",
    "\n",
    "log = model.fit(x_train, y_train, epochs=10, validation_data=(x_test, y_test))"
   ]
  },
  {
   "cell_type": "code",
   "execution_count": 27,
   "id": "about-break",
   "metadata": {},
   "outputs": [
    {
     "data": {
      "text/plain": [
       "[<matplotlib.lines.Line2D at 0x2e280139a30>]"
      ]
     },
     "execution_count": 27,
     "metadata": {},
     "output_type": "execute_result"
    },
    {
     "data": {
      "image/png": "[encoded data removed]",
      "text/plain": [
       "<Figure size 432x432 with 1 Axes>"
      ]
     },
     "metadata": {
      "needs_background": "light"
     },
     "output_type": "display_data"
    }
   ],
   "source": [
    "# loss plot\n",
    "plt.figure(figsize=(6, 6))\n",
    "\n",
    "plt.plot(log.history['loss'])\n",
    "plt.plot(log.history['val_loss'])"
   ]
  },
  {
   "cell_type": "code",
   "execution_count": 28,
   "id": "certain-algorithm",
   "metadata": {},
   "outputs": [
    {
     "data": {
      "text/plain": [
       "[<matplotlib.lines.Line2D at 0x2e2801abee0>]"
      ]
     },
     "execution_count": 28,
     "metadata": {},
     "output_type": "execute_result"
    },
    {
     "data": {
      "image/png": "[encoded data removed]",
      "text/plain": [
       "<Figure size 432x432 with 1 Axes>"
      ]
     },
     "metadata": {
      "needs_background": "light"
     },
     "output_type": "display_data"
    }
   ],
   "source": [
    "# accuracy plot\n",
    "plt.figure(figsize=(6, 6))\n",
    "\n",
    "plt.plot(log.history['accuracy'])\n",
    "plt.plot(log.history['val_accuracy'])"
   ]
  },
  {
   "cell_type": "code",
   "execution_count": null,
   "id": "democratic-pattern",
   "metadata": {},
   "outputs": [],
   "source": []
  }
 ],
 "metadata": {
  "kernelspec": {
   "display_name": "Python 3",
   "language": "python",
   "name": "python3"
  },
  "language_info": {
   "codemirror_mode": {
    "name": "ipython",
    "version": 3
   },
   "file_extension": ".py",
   "mimetype": "text/x-python",
   "name": "python",
   "nbconvert_exporter": "python",
   "pygments_lexer": "ipython3",
   "version": "3.8.5"
  }
 },
 "nbformat": 4,
 "nbformat_minor": 5
}
